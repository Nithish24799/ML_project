{
 "cells": [
  {
   "cell_type": "code",
   "execution_count": 12,
   "id": "db0a3298",
   "metadata": {
    "scrolled": true
   },
   "outputs": [],
   "source": [
    "import streamlit as st\n",
    "import pandas as pd\n",
    "import joblib\n",
    "import numpy as np\n",
    "import warnings\n",
    "warnings.simplefilter(\"ignore\")"
   ]
  },
  {
   "cell_type": "code",
   "execution_count": 15,
   "id": "7e4f1bd1",
   "metadata": {},
   "outputs": [],
   "source": [
    "import pickle\n",
    "X=pickle.load(open(\"x.pkl\",\"rb\"))\n",
    "model=pickle.load(open(\"model.pkl\",\"rb\"))"
   ]
  },
  {
   "cell_type": "code",
   "execution_count": 6,
   "id": "937dbfea",
   "metadata": {},
   "outputs": [],
   "source": [
    "def price_predict(location,sqft,bath,BHK):\n",
    "    loc_index=np.where(X.columns==location)[0][0]\n",
    "    x=np.zeros(len(X.columns))\n",
    "    x[0]=sqft\n",
    "    x[1]=bath\n",
    "    x[2]=BHK\n",
    "    if loc_index >=0:\n",
    "        x[loc_index]=1\n",
    "    return round((model.predict([x])[0]*100000),0)"
   ]
  },
  {
   "cell_type": "code",
   "execution_count": 16,
   "id": "bfc07603",
   "metadata": {},
   "outputs": [
    {
     "data": {
      "text/plain": [
       "17609697.0"
      ]
     },
     "execution_count": 16,
     "metadata": {},
     "output_type": "execute_result"
    }
   ],
   "source": [
    "price_predict('Indira Nagar',1000,2,2)"
   ]
  },
  {
   "cell_type": "code",
   "execution_count": 4,
   "id": "ae359985",
   "metadata": {},
   "outputs": [
    {
     "name": "stderr",
     "output_type": "stream",
     "text": [
      "2022-12-07 18:09:05.657 \n",
      "  \u001b[33m\u001b[1mWarning:\u001b[0m to view this Streamlit app on a browser, run it with the following\n",
      "  command:\n",
      "\n",
      "    streamlit run C:\\Users\\hp\\anaconda3\\lib\\site-packages\\ipykernel_launcher.py [ARGUMENTS]\n"
     ]
    }
   ],
   "source": [
    "st.title(\"Bangalore house price prediction\")\n",
    "BHK=st.text_input(\"Please select size(BHK) 1,2,3,4,5\")\n",
    "sqft=st.text_input(\"Please select sqftf from 1000 - 5000\")\n",
    "bath=st.text_input(\"Please select bath 1,2,3,4,5,\")\n",
    "location=st.text_input(\"Please choose area if not specify known please fill 'other'\")\n",
    "if st.button(\"Calcuate\"):\n",
    "    try:\n",
    "        st.success(price_predict(location,sqft,bath,BHK))\n",
    "    except:\n",
    "        st.error(\"Location is not found Try again\")"
   ]
  }
 ],
 "metadata": {
  "kernelspec": {
   "display_name": "Python 3 (ipykernel)",
   "language": "python",
   "name": "python3"
  },
  "language_info": {
   "codemirror_mode": {
    "name": "ipython",
    "version": 3
   },
   "file_extension": ".py",
   "mimetype": "text/x-python",
   "name": "python",
   "nbconvert_exporter": "python",
   "pygments_lexer": "ipython3",
   "version": "3.9.12"
  }
 },
 "nbformat": 4,
 "nbformat_minor": 5
}
