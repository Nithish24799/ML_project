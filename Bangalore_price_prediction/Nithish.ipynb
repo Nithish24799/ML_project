{
 "cells": [
  {
   "cell_type": "code",
   "execution_count": 18,
   "id": "db0a3298",
   "metadata": {
    "scrolled": true
   },
   "outputs": [],
   "source": [
    "import houseprediction as hp\n",
    "import streamlit as st\n",
    "import pandas as pd\n",
    "import joblib\n",
    "import numpy as np"
   ]
  },
  {
   "cell_type": "code",
   "execution_count": 15,
   "id": "7e4f1bd1",
   "metadata": {},
   "outputs": [],
   "source": [
    "X=pd.read_pickle(\"x.pkl\")\n",
    "model=joblib.load(\"model.sav\")"
   ]
  },
  {
   "cell_type": "code",
   "execution_count": 19,
   "id": "937dbfea",
   "metadata": {},
   "outputs": [],
   "source": [
    "def price_predict(location,sqft,bath,BHK):\n",
    "    loc_index=np.where(X.columns==location)[0][0]\n",
    "    x=np.zeros(len(X.columns))\n",
    "    x[0]=sqft\n",
    "    x[1]=bath\n",
    "    x[2]=BHK\n",
    "    if loc_index >=0:\n",
    "        x[loc_index]=1\n",
    "    return round((model.predict([x])[0]*100000),0)"
   ]
  },
  {
   "cell_type": "code",
   "execution_count": 20,
   "id": "4ac0a481",
   "metadata": {},
   "outputs": [
    {
     "data": {
      "text/plain": [
       "4429203.0"
      ]
     },
     "execution_count": 20,
     "metadata": {},
     "output_type": "execute_result"
    }
   ],
   "source": [
    "price_predict('5th Phase JP Nagar',1000,2,2)"
   ]
  },
  {
   "cell_type": "code",
   "execution_count": 12,
   "id": "ae359985",
   "metadata": {},
   "outputs": [],
   "source": [
    "st.title(\"Bangalore house price prediction\")\n",
    "BHK=st.text_input(\"Please select size(BHK) 1,2,3,4,5\")\n",
    "sqft=st.text_input(\"Please select sqftf from 1000 - 5000\")\n",
    "bath=st.text_input(\"Please select bath 1,2,3,4,5,\")\n",
    "location=st.text_input(\"Please choose area if not specify known please fill 'other'\")\n",
    "if st.button(\"Calcuate\"):\n",
    "    try:\n",
    "        st.success(hp.price_predict(location,sqft,bath,BHK))\n",
    "    except:\n",
    "        st.error(\"Location is not found Try again\")"
   ]
  }
 ],
 "metadata": {
  "kernelspec": {
   "display_name": "Python 3 (ipykernel)",
   "language": "python",
   "name": "python3"
  },
  "language_info": {
   "codemirror_mode": {
    "name": "ipython",
    "version": 3
   },
   "file_extension": ".py",
   "mimetype": "text/x-python",
   "name": "python",
   "nbconvert_exporter": "python",
   "pygments_lexer": "ipython3",
   "version": "3.9.12"
  }
 },
 "nbformat": 4,
 "nbformat_minor": 5
}
