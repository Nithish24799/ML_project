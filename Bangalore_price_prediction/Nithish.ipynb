{
 "cells": [
  {
   "cell_type": "code",
   "execution_count": 8,
   "id": "db0a3298",
   "metadata": {
    "scrolled": true
   },
   "outputs": [],
   "source": [
    "import houseprediction as hp\n",
    "import streamlit as st"
   ]
  },
  {
   "cell_type": "code",
   "execution_count": 12,
   "id": "ae359985",
   "metadata": {},
   "outputs": [],
   "source": [
    "st.title(\"Bangalore house price prediction\")\n",
    "BHK=st.text_input(\"Please select size(BHK) 1,2,3,4,5\")\n",
    "sqft=st.text_input(\"Please select sqftf from 1000 - 5000\")\n",
    "bath=st.text_input(\"Please select bath 1,2,3,4,5,\")\n",
    "location=st.text_input(\"Please choose area if not specify known please fill 'other'\")\n",
    "if st.button(\"Calcuate\")\n",
    "    try:\n",
    "        st.success(hp.price_predict(location,sqft,bath,BHK))\n",
    "    except:\n",
    "        st.error(\"Location is not found Try again\")"
   ]
  }
 ],
 "metadata": {
  "kernelspec": {
   "display_name": "Python 3 (ipykernel)",
   "language": "python",
   "name": "python3"
  },
  "language_info": {
   "codemirror_mode": {
    "name": "ipython",
    "version": 3
   },
   "file_extension": ".py",
   "mimetype": "text/x-python",
   "name": "python",
   "nbconvert_exporter": "python",
   "pygments_lexer": "ipython3",
   "version": "3.9.12"
  }
 },
 "nbformat": 4,
 "nbformat_minor": 5
}
