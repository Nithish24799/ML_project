{
 "cells": [
  {
   "cell_type": "code",
   "execution_count": 1,
   "id": "dc562450",
   "metadata": {},
   "outputs": [],
   "source": [
    "#import necessary library\n",
    "import nltk\n",
    "import pandas as pd\n",
    "import csv\n",
    "import string\n",
    "import re\n",
    "from bs4 import BeautifulSoup as bs\n",
    "from nltk.corpus import stopwords\n",
    "from nltk.stem import WordNetLemmatizer\n",
    "from sklearn.model_selection import train_test_split\n",
    "from sklearn.feature_extraction.text import CountVectorizer\n",
    "from sklearn.linear_model import LogisticRegression\n",
    "from sklearn.linear_model import SGDClassifier\n",
    "from sklearn.model_selection import cross_val_score\n",
    "from sklearn import metrics\n",
    "import warnings\n",
    "warnings.filterwarnings('ignore')"
   ]
  },
  {
   "cell_type": "markdown",
   "id": "6d3cf90b",
   "metadata": {},
   "source": [
    "# Using csv reader we import the file "
   ]
  },
  {
   "cell_type": "code",
   "execution_count": 2,
   "id": "58320e0b",
   "metadata": {},
   "outputs": [],
   "source": [
    "import csv\n",
    "data=open(r\"your csv file path\")\n",
    "data=csv.reader(data)\n",
    "tweet=pd.DataFrame(data,columns=[\"Target\",\"ids\",\"date\",\"Flag\",\"id\",\"tweet\"])"
   ]
  },
  {
   "cell_type": "code",
   "execution_count": 3,
   "id": "dea78a8e",
   "metadata": {},
   "outputs": [
    {
     "data": {
      "text/html": [
       "<div>\n",
       "<style scoped>\n",
       "    .dataframe tbody tr th:only-of-type {\n",
       "        vertical-align: middle;\n",
       "    }\n",
       "\n",
       "    .dataframe tbody tr th {\n",
       "        vertical-align: top;\n",
       "    }\n",
       "\n",
       "    .dataframe thead th {\n",
       "        text-align: right;\n",
       "    }\n",
       "</style>\n",
       "<table border=\"1\" class=\"dataframe\">\n",
       "  <thead>\n",
       "    <tr style=\"text-align: right;\">\n",
       "      <th></th>\n",
       "      <th>Target</th>\n",
       "      <th>ids</th>\n",
       "      <th>date</th>\n",
       "      <th>Flag</th>\n",
       "      <th>id</th>\n",
       "      <th>tweet</th>\n",
       "    </tr>\n",
       "  </thead>\n",
       "  <tbody>\n",
       "    <tr>\n",
       "      <th>0</th>\n",
       "      <td>0</td>\n",
       "      <td>1467810369</td>\n",
       "      <td>Mon Apr 06 22:19:45 PDT 2009</td>\n",
       "      <td>NO_QUERY</td>\n",
       "      <td>_TheSpecialOne_</td>\n",
       "      <td>@switchfoot http://twitpic.com/2y1zl - Awww, t...</td>\n",
       "    </tr>\n",
       "    <tr>\n",
       "      <th>1</th>\n",
       "      <td>0</td>\n",
       "      <td>1467810672</td>\n",
       "      <td>Mon Apr 06 22:19:49 PDT 2009</td>\n",
       "      <td>NO_QUERY</td>\n",
       "      <td>scotthamilton</td>\n",
       "      <td>is upset that he can't update his Facebook by ...</td>\n",
       "    </tr>\n",
       "    <tr>\n",
       "      <th>2</th>\n",
       "      <td>0</td>\n",
       "      <td>1467810917</td>\n",
       "      <td>Mon Apr 06 22:19:53 PDT 2009</td>\n",
       "      <td>NO_QUERY</td>\n",
       "      <td>mattycus</td>\n",
       "      <td>@Kenichan I dived many times for the ball. Man...</td>\n",
       "    </tr>\n",
       "    <tr>\n",
       "      <th>3</th>\n",
       "      <td>0</td>\n",
       "      <td>1467811184</td>\n",
       "      <td>Mon Apr 06 22:19:57 PDT 2009</td>\n",
       "      <td>NO_QUERY</td>\n",
       "      <td>ElleCTF</td>\n",
       "      <td>my whole body feels itchy and like its on fire</td>\n",
       "    </tr>\n",
       "    <tr>\n",
       "      <th>4</th>\n",
       "      <td>0</td>\n",
       "      <td>1467811193</td>\n",
       "      <td>Mon Apr 06 22:19:57 PDT 2009</td>\n",
       "      <td>NO_QUERY</td>\n",
       "      <td>Karoli</td>\n",
       "      <td>@nationwideclass no, it's not behaving at all....</td>\n",
       "    </tr>\n",
       "  </tbody>\n",
       "</table>\n",
       "</div>"
      ],
      "text/plain": [
       "  Target         ids                          date      Flag               id  \\\n",
       "0      0  1467810369  Mon Apr 06 22:19:45 PDT 2009  NO_QUERY  _TheSpecialOne_   \n",
       "1      0  1467810672  Mon Apr 06 22:19:49 PDT 2009  NO_QUERY    scotthamilton   \n",
       "2      0  1467810917  Mon Apr 06 22:19:53 PDT 2009  NO_QUERY         mattycus   \n",
       "3      0  1467811184  Mon Apr 06 22:19:57 PDT 2009  NO_QUERY          ElleCTF   \n",
       "4      0  1467811193  Mon Apr 06 22:19:57 PDT 2009  NO_QUERY           Karoli   \n",
       "\n",
       "                                               tweet  \n",
       "0  @switchfoot http://twitpic.com/2y1zl - Awww, t...  \n",
       "1  is upset that he can't update his Facebook by ...  \n",
       "2  @Kenichan I dived many times for the ball. Man...  \n",
       "3    my whole body feels itchy and like its on fire   \n",
       "4  @nationwideclass no, it's not behaving at all....  "
      ]
     },
     "execution_count": 3,
     "metadata": {},
     "output_type": "execute_result"
    }
   ],
   "source": [
    "#top 5 rows of the file\n",
    "tweet.head()"
   ]
  },
  {
   "cell_type": "code",
   "execution_count": 4,
   "id": "30c03504",
   "metadata": {},
   "outputs": [
    {
     "data": {
      "text/plain": [
       "(1600000, 6)"
      ]
     },
     "execution_count": 4,
     "metadata": {},
     "output_type": "execute_result"
    }
   ],
   "source": [
    "#checking how many rows and columns\n",
    "tweet.shape"
   ]
  },
  {
   "cell_type": "code",
   "execution_count": 5,
   "id": "7d4fa81d",
   "metadata": {},
   "outputs": [
    {
     "name": "stdout",
     "output_type": "stream",
     "text": [
      "<class 'pandas.core.frame.DataFrame'>\n",
      "RangeIndex: 1600000 entries, 0 to 1599999\n",
      "Data columns (total 6 columns):\n",
      " #   Column  Non-Null Count    Dtype \n",
      "---  ------  --------------    ----- \n",
      " 0   Target  1600000 non-null  object\n",
      " 1   ids     1600000 non-null  object\n",
      " 2   date    1600000 non-null  object\n",
      " 3   Flag    1600000 non-null  object\n",
      " 4   id      1600000 non-null  object\n",
      " 5   tweet   1600000 non-null  object\n",
      "dtypes: object(6)\n",
      "memory usage: 73.2+ MB\n"
     ]
    }
   ],
   "source": [
    "#information or datatype of the dataframe\n",
    "tweet.info()"
   ]
  },
  {
   "cell_type": "code",
   "execution_count": 6,
   "id": "1a180e28",
   "metadata": {},
   "outputs": [],
   "source": [
    "#dropping the unwanted feature\n",
    "tweet.drop([\"ids\",\"date\",\"Flag\",\"id\"],axis=1,inplace=True)#we are buliding a model on sentimental analysis"
   ]
  },
  {
   "cell_type": "code",
   "execution_count": 7,
   "id": "bb1bb102",
   "metadata": {
    "scrolled": false
   },
   "outputs": [
    {
     "data": {
      "text/html": [
       "<div>\n",
       "<style scoped>\n",
       "    .dataframe tbody tr th:only-of-type {\n",
       "        vertical-align: middle;\n",
       "    }\n",
       "\n",
       "    .dataframe tbody tr th {\n",
       "        vertical-align: top;\n",
       "    }\n",
       "\n",
       "    .dataframe thead th {\n",
       "        text-align: right;\n",
       "    }\n",
       "</style>\n",
       "<table border=\"1\" class=\"dataframe\">\n",
       "  <thead>\n",
       "    <tr style=\"text-align: right;\">\n",
       "      <th></th>\n",
       "      <th>Target</th>\n",
       "      <th>tweet</th>\n",
       "    </tr>\n",
       "  </thead>\n",
       "  <tbody>\n",
       "    <tr>\n",
       "      <th>0</th>\n",
       "      <td>0</td>\n",
       "      <td>@switchfoot http://twitpic.com/2y1zl - Awww, t...</td>\n",
       "    </tr>\n",
       "    <tr>\n",
       "      <th>1</th>\n",
       "      <td>0</td>\n",
       "      <td>is upset that he can't update his Facebook by ...</td>\n",
       "    </tr>\n",
       "    <tr>\n",
       "      <th>2</th>\n",
       "      <td>0</td>\n",
       "      <td>@Kenichan I dived many times for the ball. Man...</td>\n",
       "    </tr>\n",
       "    <tr>\n",
       "      <th>3</th>\n",
       "      <td>0</td>\n",
       "      <td>my whole body feels itchy and like its on fire</td>\n",
       "    </tr>\n",
       "    <tr>\n",
       "      <th>4</th>\n",
       "      <td>0</td>\n",
       "      <td>@nationwideclass no, it's not behaving at all....</td>\n",
       "    </tr>\n",
       "  </tbody>\n",
       "</table>\n",
       "</div>"
      ],
      "text/plain": [
       "  Target                                              tweet\n",
       "0      0  @switchfoot http://twitpic.com/2y1zl - Awww, t...\n",
       "1      0  is upset that he can't update his Facebook by ...\n",
       "2      0  @Kenichan I dived many times for the ball. Man...\n",
       "3      0    my whole body feels itchy and like its on fire \n",
       "4      0  @nationwideclass no, it's not behaving at all...."
      ]
     },
     "execution_count": 7,
     "metadata": {},
     "output_type": "execute_result"
    }
   ],
   "source": [
    "tweet.head()"
   ]
  },
  {
   "cell_type": "markdown",
   "id": "78ad9a66",
   "metadata": {},
   "source": [
    "# Data Cleaning"
   ]
  },
  {
   "cell_type": "markdown",
   "id": "e3d53b75",
   "metadata": {},
   "source": [
    "### http parser removing"
   ]
  },
  {
   "cell_type": "code",
   "execution_count": 8,
   "id": "603f0d9e",
   "metadata": {},
   "outputs": [],
   "source": [
    "#http parser removal\n",
    "def html(x):\n",
    "    soup=bs(x,\"html.parser\")\n",
    "    text=soup.get_text()\n",
    "    text=re.sub(r'(@\\[A-Za-z0-9]+)|([^0-9A-Za-z \\t])|(\\w+:\\/\\/\\s+)|^rt|http.+?',\"\",text)\n",
    "    return text"
   ]
  },
  {
   "cell_type": "code",
   "execution_count": 9,
   "id": "689817f0",
   "metadata": {},
   "outputs": [
    {
     "data": {
      "text/html": [
       "<div>\n",
       "<style scoped>\n",
       "    .dataframe tbody tr th:only-of-type {\n",
       "        vertical-align: middle;\n",
       "    }\n",
       "\n",
       "    .dataframe tbody tr th {\n",
       "        vertical-align: top;\n",
       "    }\n",
       "\n",
       "    .dataframe thead th {\n",
       "        text-align: right;\n",
       "    }\n",
       "</style>\n",
       "<table border=\"1\" class=\"dataframe\">\n",
       "  <thead>\n",
       "    <tr style=\"text-align: right;\">\n",
       "      <th></th>\n",
       "      <th>Target</th>\n",
       "      <th>tweet</th>\n",
       "    </tr>\n",
       "  </thead>\n",
       "  <tbody>\n",
       "    <tr>\n",
       "      <th>0</th>\n",
       "      <td>0</td>\n",
       "      <td>switchfoot twitpiccom2y1zl  Awww thats a bumme...</td>\n",
       "    </tr>\n",
       "    <tr>\n",
       "      <th>1</th>\n",
       "      <td>0</td>\n",
       "      <td>is upset that he cant update his Facebook by t...</td>\n",
       "    </tr>\n",
       "    <tr>\n",
       "      <th>2</th>\n",
       "      <td>0</td>\n",
       "      <td>Kenichan I dived many times for the ball Manag...</td>\n",
       "    </tr>\n",
       "    <tr>\n",
       "      <th>3</th>\n",
       "      <td>0</td>\n",
       "      <td>my whole body feels itchy and like its on fire</td>\n",
       "    </tr>\n",
       "    <tr>\n",
       "      <th>4</th>\n",
       "      <td>0</td>\n",
       "      <td>nationwideclass no its not behaving at all im ...</td>\n",
       "    </tr>\n",
       "  </tbody>\n",
       "</table>\n",
       "</div>"
      ],
      "text/plain": [
       "  Target                                              tweet\n",
       "0      0  switchfoot twitpiccom2y1zl  Awww thats a bumme...\n",
       "1      0  is upset that he cant update his Facebook by t...\n",
       "2      0  Kenichan I dived many times for the ball Manag...\n",
       "3      0    my whole body feels itchy and like its on fire \n",
       "4      0  nationwideclass no its not behaving at all im ..."
      ]
     },
     "execution_count": 9,
     "metadata": {},
     "output_type": "execute_result"
    }
   ],
   "source": [
    "tweet[\"tweet\"]=tweet[\"tweet\"].apply(html)\n",
    "tweet.head()"
   ]
  },
  {
   "cell_type": "markdown",
   "id": "d0a7655c",
   "metadata": {},
   "source": [
    "### removing Punctuation on datapoint"
   ]
  },
  {
   "cell_type": "code",
   "execution_count": 10,
   "id": "fff216ed",
   "metadata": {},
   "outputs": [],
   "source": [
    "def punctuation(x):\n",
    "    removed_punctuation = x.translate (str.maketrans ('', '', string.punctuation))\n",
    "    return removed_punctuation"
   ]
  },
  {
   "cell_type": "code",
   "execution_count": 11,
   "id": "077bb319",
   "metadata": {},
   "outputs": [
    {
     "data": {
      "text/html": [
       "<div>\n",
       "<style scoped>\n",
       "    .dataframe tbody tr th:only-of-type {\n",
       "        vertical-align: middle;\n",
       "    }\n",
       "\n",
       "    .dataframe tbody tr th {\n",
       "        vertical-align: top;\n",
       "    }\n",
       "\n",
       "    .dataframe thead th {\n",
       "        text-align: right;\n",
       "    }\n",
       "</style>\n",
       "<table border=\"1\" class=\"dataframe\">\n",
       "  <thead>\n",
       "    <tr style=\"text-align: right;\">\n",
       "      <th></th>\n",
       "      <th>Target</th>\n",
       "      <th>tweet</th>\n",
       "    </tr>\n",
       "  </thead>\n",
       "  <tbody>\n",
       "    <tr>\n",
       "      <th>1599995</th>\n",
       "      <td>4</td>\n",
       "      <td>Just woke up Having no school is the best feel...</td>\n",
       "    </tr>\n",
       "    <tr>\n",
       "      <th>1599996</th>\n",
       "      <td>4</td>\n",
       "      <td>TheWDBcom  Very cool to hear old Walt intervie...</td>\n",
       "    </tr>\n",
       "    <tr>\n",
       "      <th>1599997</th>\n",
       "      <td>4</td>\n",
       "      <td>Are you ready for your MoJo Makeover Ask me fo...</td>\n",
       "    </tr>\n",
       "    <tr>\n",
       "      <th>1599998</th>\n",
       "      <td>4</td>\n",
       "      <td>Happy 38th Birthday to my boo of alll time Tup...</td>\n",
       "    </tr>\n",
       "    <tr>\n",
       "      <th>1599999</th>\n",
       "      <td>4</td>\n",
       "      <td>happy charitytuesday theNSPCC SparksCharity Sp...</td>\n",
       "    </tr>\n",
       "  </tbody>\n",
       "</table>\n",
       "</div>"
      ],
      "text/plain": [
       "        Target                                              tweet\n",
       "1599995      4  Just woke up Having no school is the best feel...\n",
       "1599996      4  TheWDBcom  Very cool to hear old Walt intervie...\n",
       "1599997      4  Are you ready for your MoJo Makeover Ask me fo...\n",
       "1599998      4  Happy 38th Birthday to my boo of alll time Tup...\n",
       "1599999      4  happy charitytuesday theNSPCC SparksCharity Sp..."
      ]
     },
     "execution_count": 11,
     "metadata": {},
     "output_type": "execute_result"
    }
   ],
   "source": [
    "tweet[\"tweet\"]=tweet[\"tweet\"].apply(punctuation)\n",
    "tweet.tail()"
   ]
  },
  {
   "cell_type": "markdown",
   "id": "f852e371",
   "metadata": {},
   "source": [
    "### Stopword removing"
   ]
  },
  {
   "cell_type": "code",
   "execution_count": 12,
   "id": "d865a4eb",
   "metadata": {},
   "outputs": [],
   "source": [
    "#stopwords\n",
    "sw=list(stopwords.words('english'))\n",
    "def stopword(x):\n",
    "    lst=[]\n",
    "    for i in x.split(\" \"):\n",
    "        if i not in sw:\n",
    "            lst.append(i)\n",
    "    return \" \".join(lst)"
   ]
  },
  {
   "cell_type": "code",
   "execution_count": 13,
   "id": "fd3d3833",
   "metadata": {},
   "outputs": [
    {
     "data": {
      "text/html": [
       "<div>\n",
       "<style scoped>\n",
       "    .dataframe tbody tr th:only-of-type {\n",
       "        vertical-align: middle;\n",
       "    }\n",
       "\n",
       "    .dataframe tbody tr th {\n",
       "        vertical-align: top;\n",
       "    }\n",
       "\n",
       "    .dataframe thead th {\n",
       "        text-align: right;\n",
       "    }\n",
       "</style>\n",
       "<table border=\"1\" class=\"dataframe\">\n",
       "  <thead>\n",
       "    <tr style=\"text-align: right;\">\n",
       "      <th></th>\n",
       "      <th>Target</th>\n",
       "      <th>tweet</th>\n",
       "    </tr>\n",
       "  </thead>\n",
       "  <tbody>\n",
       "    <tr>\n",
       "      <th>1599995</th>\n",
       "      <td>4</td>\n",
       "      <td>Just woke Having school best feeling ever</td>\n",
       "    </tr>\n",
       "    <tr>\n",
       "      <th>1599996</th>\n",
       "      <td>4</td>\n",
       "      <td>TheWDBcom  Very cool hear old Walt interviews ...</td>\n",
       "    </tr>\n",
       "    <tr>\n",
       "      <th>1599997</th>\n",
       "      <td>4</td>\n",
       "      <td>Are ready MoJo Makeover Ask details</td>\n",
       "    </tr>\n",
       "    <tr>\n",
       "      <th>1599998</th>\n",
       "      <td>4</td>\n",
       "      <td>Happy 38th Birthday boo alll time Tupac Amaru ...</td>\n",
       "    </tr>\n",
       "    <tr>\n",
       "      <th>1599999</th>\n",
       "      <td>4</td>\n",
       "      <td>happy charitytuesday theNSPCC SparksCharity Sp...</td>\n",
       "    </tr>\n",
       "  </tbody>\n",
       "</table>\n",
       "</div>"
      ],
      "text/plain": [
       "        Target                                              tweet\n",
       "1599995      4         Just woke Having school best feeling ever \n",
       "1599996      4  TheWDBcom  Very cool hear old Walt interviews ...\n",
       "1599997      4               Are ready MoJo Makeover Ask details \n",
       "1599998      4  Happy 38th Birthday boo alll time Tupac Amaru ...\n",
       "1599999      4  happy charitytuesday theNSPCC SparksCharity Sp..."
      ]
     },
     "execution_count": 13,
     "metadata": {},
     "output_type": "execute_result"
    }
   ],
   "source": [
    "tweet[\"tweet\"]=tweet[\"tweet\"].apply(stopword)\n",
    "tweet.tail()"
   ]
  },
  {
   "cell_type": "markdown",
   "id": "08d0e096",
   "metadata": {},
   "source": [
    "### Lemmatization on tweet feature"
   ]
  },
  {
   "cell_type": "code",
   "execution_count": 14,
   "id": "8e80af49",
   "metadata": {},
   "outputs": [],
   "source": [
    "def lema(x):\n",
    "    lema=WordNetLemmatizer()\n",
    "    text=\" \".join([lema.lemmatize(word) for word in x.split(\" \")])\n",
    "    return text"
   ]
  },
  {
   "cell_type": "code",
   "execution_count": 15,
   "id": "e66ebdbf",
   "metadata": {},
   "outputs": [
    {
     "data": {
      "text/html": [
       "<div>\n",
       "<style scoped>\n",
       "    .dataframe tbody tr th:only-of-type {\n",
       "        vertical-align: middle;\n",
       "    }\n",
       "\n",
       "    .dataframe tbody tr th {\n",
       "        vertical-align: top;\n",
       "    }\n",
       "\n",
       "    .dataframe thead th {\n",
       "        text-align: right;\n",
       "    }\n",
       "</style>\n",
       "<table border=\"1\" class=\"dataframe\">\n",
       "  <thead>\n",
       "    <tr style=\"text-align: right;\">\n",
       "      <th></th>\n",
       "      <th>Target</th>\n",
       "      <th>tweet</th>\n",
       "    </tr>\n",
       "  </thead>\n",
       "  <tbody>\n",
       "    <tr>\n",
       "      <th>1599995</th>\n",
       "      <td>4</td>\n",
       "      <td>Just woke Having school best feeling ever</td>\n",
       "    </tr>\n",
       "    <tr>\n",
       "      <th>1599996</th>\n",
       "      <td>4</td>\n",
       "      <td>TheWDBcom  Very cool hear old Walt interview  ...</td>\n",
       "    </tr>\n",
       "    <tr>\n",
       "      <th>1599997</th>\n",
       "      <td>4</td>\n",
       "      <td>Are ready MoJo Makeover Ask detail</td>\n",
       "    </tr>\n",
       "    <tr>\n",
       "      <th>1599998</th>\n",
       "      <td>4</td>\n",
       "      <td>Happy 38th Birthday boo alll time Tupac Amaru ...</td>\n",
       "    </tr>\n",
       "    <tr>\n",
       "      <th>1599999</th>\n",
       "      <td>4</td>\n",
       "      <td>happy charitytuesday theNSPCC SparksCharity Sp...</td>\n",
       "    </tr>\n",
       "  </tbody>\n",
       "</table>\n",
       "</div>"
      ],
      "text/plain": [
       "        Target                                              tweet\n",
       "1599995      4         Just woke Having school best feeling ever \n",
       "1599996      4  TheWDBcom  Very cool hear old Walt interview  ...\n",
       "1599997      4                Are ready MoJo Makeover Ask detail \n",
       "1599998      4  Happy 38th Birthday boo alll time Tupac Amaru ...\n",
       "1599999      4  happy charitytuesday theNSPCC SparksCharity Sp..."
      ]
     },
     "execution_count": 15,
     "metadata": {},
     "output_type": "execute_result"
    }
   ],
   "source": [
    "tweet[\"tweet\"]=tweet[\"tweet\"].apply(lema)\n",
    "tweet.tail()"
   ]
  },
  {
   "cell_type": "markdown",
   "id": "cd3f6e98",
   "metadata": {},
   "source": [
    "# Counts the Target value"
   ]
  },
  {
   "cell_type": "code",
   "execution_count": 16,
   "id": "b6f93b25",
   "metadata": {
    "scrolled": true
   },
   "outputs": [
    {
     "data": {
      "text/plain": [
       "0    800000\n",
       "4    800000\n",
       "Name: Target, dtype: int64"
      ]
     },
     "execution_count": 16,
     "metadata": {},
     "output_type": "execute_result"
    }
   ],
   "source": [
    "tweet.Target.value_counts()"
   ]
  },
  {
   "cell_type": "markdown",
   "id": "f7d9537b",
   "metadata": {},
   "source": [
    "## Since its a binary classification we can use logistic regression"
   ]
  },
  {
   "cell_type": "markdown",
   "id": "6a63ba27",
   "metadata": {},
   "source": [
    "# Model Building"
   ]
  },
  {
   "cell_type": "code",
   "execution_count": 17,
   "id": "4d84c59e",
   "metadata": {},
   "outputs": [],
   "source": [
    "#seperating the dependent and independent\n",
    "x=tweet[\"tweet\"]\n",
    "y=tweet[\"Target\"]"
   ]
  },
  {
   "cell_type": "markdown",
   "id": "6a7f01d9",
   "metadata": {},
   "source": [
    "## CountVectorizer for changing the categorical to numerical "
   ]
  },
  {
   "cell_type": "code",
   "execution_count": 18,
   "id": "f885c7a5",
   "metadata": {},
   "outputs": [],
   "source": [
    "cv=CountVectorizer()\n",
    "x=cv.fit_transform(x)"
   ]
  },
  {
   "cell_type": "markdown",
   "id": "7d5ec8a4",
   "metadata": {},
   "source": [
    "## Perform Train_test_split "
   ]
  },
  {
   "cell_type": "code",
   "execution_count": 19,
   "id": "50515cd6",
   "metadata": {},
   "outputs": [],
   "source": [
    "x_train,x_test,y_train,y_test=train_test_split(x,y,test_size=0.3)"
   ]
  },
  {
   "cell_type": "markdown",
   "id": "b7b1b0ab",
   "metadata": {},
   "source": [
    "## Model buliding using logistic regression"
   ]
  },
  {
   "cell_type": "code",
   "execution_count": 20,
   "id": "790bb18a",
   "metadata": {},
   "outputs": [
    {
     "data": {
      "text/plain": [
       "0.7827395833333334"
      ]
     },
     "execution_count": 20,
     "metadata": {},
     "output_type": "execute_result"
    }
   ],
   "source": [
    "model=LogisticRegression()\n",
    "model.fit(x_train,y_train)\n",
    "#score of the model\n",
    "model.score(x_test,y_test)"
   ]
  },
  {
   "cell_type": "markdown",
   "id": "05da7a23",
   "metadata": {},
   "source": [
    "## Cross validation on logistic regression "
   ]
  },
  {
   "cell_type": "code",
   "execution_count": 21,
   "id": "c217be92",
   "metadata": {},
   "outputs": [
    {
     "data": {
      "text/plain": [
       "0.776240625"
      ]
     },
     "execution_count": 21,
     "metadata": {},
     "output_type": "execute_result"
    }
   ],
   "source": [
    "cross_val_score(model,x,y,cv=5).mean()"
   ]
  },
  {
   "cell_type": "markdown",
   "id": "37875a02",
   "metadata": {},
   "source": [
    "## hence the logistic regression perform on a overall score of 77% "
   ]
  },
  {
   "cell_type": "markdown",
   "id": "f46d0832",
   "metadata": {},
   "source": [
    "## Confusion matrix for logistic regression"
   ]
  },
  {
   "cell_type": "code",
   "execution_count": 22,
   "id": "a600b709",
   "metadata": {},
   "outputs": [
    {
     "data": {
      "text/plain": [
       "<sklearn.metrics._plot.confusion_matrix.ConfusionMatrixDisplay at 0x1cf86810490>"
      ]
     },
     "execution_count": 22,
     "metadata": {},
     "output_type": "execute_result"
    },
    {
     "data": {
      "image/png": "[encoded data removed]",
      "text/plain": [
       "<Figure size 432x288 with 2 Axes>"
      ]
     },
     "metadata": {
      "needs_background": "light"
     },
     "output_type": "display_data"
    }
   ],
   "source": [
    "con=metrics.confusion_matrix(y_test,model.predict(x_test))\n",
    "cm_display=metrics.ConfusionMatrixDisplay(confusion_matrix=con,display_labels=[False,True])\n",
    "cm_display.plot()"
   ]
  },
  {
   "cell_type": "markdown",
   "id": "0bb14565",
   "metadata": {},
   "source": [
    "# Try some classifier to check for better score"
   ]
  },
  {
   "cell_type": "code",
   "execution_count": 23,
   "id": "9aa50cdf",
   "metadata": {},
   "outputs": [
    {
     "data": {
      "text/plain": [
       "0.7841416666666666"
      ]
     },
     "execution_count": 23,
     "metadata": {},
     "output_type": "execute_result"
    }
   ],
   "source": [
    "model1=SGDClassifier(alpha=0.00001)\n",
    "model1.fit(x_train,y_train)\n",
    "#score of the model\n",
    "model1.score(x_test,y_test)"
   ]
  },
  {
   "cell_type": "markdown",
   "id": "3cca8622",
   "metadata": {},
   "source": [
    "## Cross validation score for SDGclassifier"
   ]
  },
  {
   "cell_type": "code",
   "execution_count": 24,
   "id": "845663bc",
   "metadata": {},
   "outputs": [
    {
     "data": {
      "text/plain": [
       "0.778851875"
      ]
     },
     "execution_count": 24,
     "metadata": {},
     "output_type": "execute_result"
    }
   ],
   "source": [
    "cross_val_score(model1,x,y,cv=5).mean()"
   ]
  },
  {
   "cell_type": "markdown",
   "id": "7003910f",
   "metadata": {},
   "source": [
    "## hence the SDGclassifier perform on a overall score of 77%"
   ]
  },
  {
   "cell_type": "markdown",
   "id": "01c7a75b",
   "metadata": {},
   "source": [
    "## Confusion matrix for SDGclassifier"
   ]
  },
  {
   "cell_type": "code",
   "execution_count": 25,
   "id": "a8f0da82",
   "metadata": {},
   "outputs": [
    {
     "data": {
      "text/plain": [
       "<sklearn.metrics._plot.confusion_matrix.ConfusionMatrixDisplay at 0x1cf86810760>"
      ]
     },
     "execution_count": 25,
     "metadata": {},
     "output_type": "execute_result"
    },
    {
     "data": {
      "image/png": "[encoded data removed]",
      "text/plain": [
       "<Figure size 432x288 with 2 Axes>"
      ]
     },
     "metadata": {
      "needs_background": "light"
     },
     "output_type": "display_data"
    }
   ],
   "source": [
    "con=metrics.confusion_matrix(y_test,model1.predict(x_test))\n",
    "cm_display=metrics.ConfusionMatrixDisplay(confusion_matrix=con,display_labels=[False,True])\n",
    "cm_display.plot()"
   ]
  },
  {
   "cell_type": "markdown",
   "id": "e1986c12",
   "metadata": {},
   "source": [
    "# Conclusion"
   ]
  },
  {
   "cell_type": "markdown",
   "id": "aa15ac0c",
   "metadata": {},
   "source": [
    "# As the sentimental analysis of tweet made by the people are mostly in (0)Negative manner and (4)Positive manner and the best model is SDGclassifier"
   ]
  }
 ],
 "metadata": {
  "kernelspec": {
   "display_name": "Python 3 (ipykernel)",
   "language": "python",
   "name": "python3"
  },
  "language_info": {
   "codemirror_mode": {
    "name": "ipython",
    "version": 3
   },
   "file_extension": ".py",
   "mimetype": "text/x-python",
   "name": "python",
   "nbconvert_exporter": "python",
   "pygments_lexer": "ipython3",
   "version": "3.9.12"
  }
 },
 "nbformat": 4,
 "nbformat_minor": 5
}
