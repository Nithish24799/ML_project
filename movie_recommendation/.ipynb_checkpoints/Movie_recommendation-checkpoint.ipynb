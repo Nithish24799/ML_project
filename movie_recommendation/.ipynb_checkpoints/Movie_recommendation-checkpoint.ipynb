{
 "cells": [
  {
   "cell_type": "code",
   "execution_count": 18,
   "id": "f65f176f",
   "metadata": {},
   "outputs": [
    {
     "name": "stderr",
     "output_type": "stream",
     "text": [
      "C:\\Users\\hp\\AppData\\Local\\Temp\\ipykernel_7892\\1822223228.py:9: SettingWithCopyWarning: \n",
      "A value is trying to be set on a copy of a slice from a DataFrame\n",
      "\n",
      "See the caveats in the documentation: https://pandas.pydata.org/pandas-docs/stable/user_guide/indexing.html#returning-a-view-versus-a-copy\n",
      "  movie_data.fillna(\"\",inplace=True)\n"
     ]
    },
    {
     "name": "stdout",
     "output_type": "stream",
     "text": [
      " Enter your favourite movie name : avatar\n",
      "Movies suggested for you : \n",
      "\n",
      "1 . Avatar\n",
      "2 . Alien\n",
      "3 . Aliens\n",
      "4 . Guardians of the Galaxy\n",
      "5 . Star Trek Beyond\n",
      "6 . Star Trek Into Darkness\n",
      "7 . Galaxy Quest\n",
      "8 . Alien³\n",
      "9 . Cargo\n",
      "10 . Trekkies\n",
      "11 . Gravity\n",
      "12 . Moonraker\n",
      "13 . Jason X\n",
      "14 . Pocahontas\n",
      "15 . Space Cowboys\n",
      "16 . The Helix... Loaded\n",
      "17 . Lockout\n",
      "18 . Event Horizon\n",
      "19 . Space Dogs\n",
      "20 . Machete Kills\n",
      "21 . Gettysburg\n",
      "22 . Clash of the Titans\n",
      "23 . Star Wars: Clone Wars: Volume 1\n",
      "24 . The Right Stuff\n",
      "25 . Terminator Salvation\n",
      "26 . The Astronaut's Wife\n",
      "27 . Planet of the Apes\n",
      "28 . Star Trek\n",
      "29 . Wing Commander\n"
     ]
    }
   ],
   "source": [
    "import numpy as np\n",
    "import pandas as pd\n",
    "import difflib\n",
    "from sklearn.feature_extraction.text import TfidfVectorizer\n",
    "from sklearn.metrics.pairwise import cosine_similarity\n",
    "movies_data=pd.read_csv(\"movie.csv\")\n",
    "selected_features = ['genres','keywords','tagline','cast','director']\n",
    "movie_data=movies_data[selected_features]\n",
    "movie_data.fillna(\"\",inplace=True)\n",
    "combined_features = movie_data['genres']+' '+movie_data['keywords']+' '+movie_data['tagline']+' '+movie_data['cast']+' '+movie_data['director']\n",
    "vectorizer=TfidfVectorizer()\n",
    "feature_vectors = vectorizer.fit_transform(combined_features)\n",
    "similarity = cosine_similarity(feature_vectors)\n",
    "movie_name = input(' Enter your favourite movie name : ')\n",
    "list_of_all_titles = movies_data['title'].tolist()\n",
    "find_close_match = difflib.get_close_matches(movie_name, list_of_all_titles)\n",
    "close_match = find_close_match[0]\n",
    "index_of_the_movie = movies_data[movies_data.title == close_match]['index'].values[0]\n",
    "similarity_score = list(enumerate(similarity[index_of_the_movie]))\n",
    "sorted_similar_movies = sorted(similarity_score, key = lambda x:x[1], reverse = True) \n",
    "print('Movies suggested for you : \\n')\n",
    "i = 1\n",
    "for movie in sorted_similar_movies:\n",
    "    index = movie[0]\n",
    "    title_from_index = movies_data[movies_data.index==index]['title'].values[0]\n",
    "    if (i<30):\n",
    "        print(i, '.',title_from_index)\n",
    "        i+=1"
   ]
  },
  {
   "cell_type": "code",
   "execution_count": 26,
   "id": "c09fdfd9",
   "metadata": {},
   "outputs": [],
   "source": [
    "import pickle\n",
    "with open(\"movies.pkl\",\"wb\") as f:\n",
    "    pickle.dump('title_from_index',f)"
   ]
  }
 ],
 "metadata": {
  "kernelspec": {
   "display_name": "Python 3 (ipykernel)",
   "language": "python",
   "name": "python3"
  },
  "language_info": {
   "codemirror_mode": {
    "name": "ipython",
    "version": 3
   },
   "file_extension": ".py",
   "mimetype": "text/x-python",
   "name": "python",
   "nbconvert_exporter": "python",
   "pygments_lexer": "ipython3",
   "version": "3.9.13"
  }
 },
 "nbformat": 4,
 "nbformat_minor": 5
}
