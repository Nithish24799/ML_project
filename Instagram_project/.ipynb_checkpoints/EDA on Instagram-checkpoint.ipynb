{
 "cells": [
  {
   "cell_type": "code",
   "execution_count": 1,
   "id": "47b5d7b6",
   "metadata": {},
   "outputs": [],
   "source": [
    "import pandas as pd\n",
    "import matplotlib.pyplot as plt\n",
    "import scipy.stats as s\n",
    "from scipy.stats import pearsonr\n",
    "import statsmodels.api as sm\n",
    "from statsmodels.formula.api import ols\n",
    "import seaborn as sns\n",
    "import warnings\n",
    "warnings.filterwarnings(\"ignore\")"
   ]
  },
  {
   "cell_type": "code",
   "execution_count": 2,
   "id": "e5efef7a",
   "metadata": {
    "scrolled": false
   },
   "outputs": [
    {
     "data": {
      "text/html": [
       "<div>\n",
       "<style scoped>\n",
       "    .dataframe tbody tr th:only-of-type {\n",
       "        vertical-align: middle;\n",
       "    }\n",
       "\n",
       "    .dataframe tbody tr th {\n",
       "        vertical-align: top;\n",
       "    }\n",
       "\n",
       "    .dataframe thead th {\n",
       "        text-align: right;\n",
       "    }\n",
       "</style>\n",
       "<table border=\"1\" class=\"dataframe\">\n",
       "  <thead>\n",
       "    <tr style=\"text-align: right;\">\n",
       "      <th></th>\n",
       "      <th>Rank</th>\n",
       "      <th>Channel Info</th>\n",
       "      <th>Influence Score</th>\n",
       "      <th>Followers</th>\n",
       "      <th>Avg. Likes</th>\n",
       "      <th>Posts</th>\n",
       "      <th>60-Day Eng Rate</th>\n",
       "      <th>New Post Avg. Likes</th>\n",
       "      <th>Total Likes</th>\n",
       "      <th>Country Or Region</th>\n",
       "    </tr>\n",
       "  </thead>\n",
       "  <tbody>\n",
       "    <tr>\n",
       "      <th>0</th>\n",
       "      <td>1.0</td>\n",
       "      <td>\\ncristiano</td>\n",
       "      <td>92.0</td>\n",
       "      <td>485.2m</td>\n",
       "      <td>8.7m</td>\n",
       "      <td>3.4k</td>\n",
       "      <td>0.013</td>\n",
       "      <td>6.3m</td>\n",
       "      <td>29.1b</td>\n",
       "      <td>Spain</td>\n",
       "    </tr>\n",
       "    <tr>\n",
       "      <th>1</th>\n",
       "      <td>2.0</td>\n",
       "      <td>kyliejenner</td>\n",
       "      <td>91.0</td>\n",
       "      <td>370.7m</td>\n",
       "      <td>8.2m</td>\n",
       "      <td>7.0k</td>\n",
       "      <td>0.014</td>\n",
       "      <td>5.0m</td>\n",
       "      <td>57.4b</td>\n",
       "      <td>United States</td>\n",
       "    </tr>\n",
       "    <tr>\n",
       "      <th>2</th>\n",
       "      <td>3.0</td>\n",
       "      <td>\\nleomessi</td>\n",
       "      <td>90.0</td>\n",
       "      <td>363.9m</td>\n",
       "      <td>6.7m</td>\n",
       "      <td>915.0</td>\n",
       "      <td>0.010</td>\n",
       "      <td>3.5m</td>\n",
       "      <td>6.1b</td>\n",
       "      <td>NaN</td>\n",
       "    </tr>\n",
       "    <tr>\n",
       "      <th>3</th>\n",
       "      <td>4.0</td>\n",
       "      <td>\\nselenagomez</td>\n",
       "      <td>93.0</td>\n",
       "      <td>348.8m</td>\n",
       "      <td>6.1m</td>\n",
       "      <td>1.9k</td>\n",
       "      <td>0.005</td>\n",
       "      <td>1.7m</td>\n",
       "      <td>11.4b</td>\n",
       "      <td>United States</td>\n",
       "    </tr>\n",
       "    <tr>\n",
       "      <th>4</th>\n",
       "      <td>5.0</td>\n",
       "      <td>\\ntherock</td>\n",
       "      <td>91.0</td>\n",
       "      <td>339.4m</td>\n",
       "      <td>1.8m</td>\n",
       "      <td>6.8k</td>\n",
       "      <td>0.003</td>\n",
       "      <td>932.0k</td>\n",
       "      <td>12.6b</td>\n",
       "      <td>United States</td>\n",
       "    </tr>\n",
       "  </tbody>\n",
       "</table>\n",
       "</div>"
      ],
      "text/plain": [
       "   Rank   Channel Info  Influence Score Followers Avg. Likes  Posts  \\\n",
       "0   1.0    \\ncristiano             92.0    485.2m       8.7m   3.4k   \n",
       "1   2.0    kyliejenner             91.0    370.7m       8.2m   7.0k   \n",
       "2   3.0     \\nleomessi             90.0    363.9m       6.7m  915.0   \n",
       "3   4.0  \\nselenagomez             93.0    348.8m       6.1m   1.9k   \n",
       "4   5.0      \\ntherock             91.0    339.4m       1.8m   6.8k   \n",
       "\n",
       "   60-Day Eng Rate New Post Avg. Likes Total Likes Country Or Region  \n",
       "0            0.013                6.3m       29.1b             Spain  \n",
       "1            0.014                5.0m       57.4b     United States  \n",
       "2            0.010                3.5m        6.1b               NaN  \n",
       "3            0.005                1.7m       11.4b     United States  \n",
       "4            0.003              932.0k       12.6b     United States  "
      ]
     },
     "execution_count": 2,
     "metadata": {},
     "output_type": "execute_result"
    }
   ],
   "source": [
    "insta=pd.read_excel(\"Influencer.xlsx\")\n",
    "insta.head()"
   ]
  },
  {
   "cell_type": "code",
   "execution_count": 3,
   "id": "b949a8bb",
   "metadata": {},
   "outputs": [
    {
     "data": {
      "text/plain": [
       "(200, 10)"
      ]
     },
     "execution_count": 3,
     "metadata": {},
     "output_type": "execute_result"
    }
   ],
   "source": [
    "insta.shape"
   ]
  },
  {
   "cell_type": "code",
   "execution_count": 4,
   "id": "a1d28cbd",
   "metadata": {},
   "outputs": [
    {
     "name": "stdout",
     "output_type": "stream",
     "text": [
      "<class 'pandas.core.frame.DataFrame'>\n",
      "RangeIndex: 200 entries, 0 to 199\n",
      "Data columns (total 10 columns):\n",
      " #   Column               Non-Null Count  Dtype  \n",
      "---  ------               --------------  -----  \n",
      " 0   Rank                 200 non-null    float64\n",
      " 1   Channel Info         200 non-null    object \n",
      " 2   Influence Score      200 non-null    float64\n",
      " 3   Followers            200 non-null    object \n",
      " 4   Avg. Likes           200 non-null    object \n",
      " 5   Posts                200 non-null    object \n",
      " 6   60-Day Eng Rate      200 non-null    float64\n",
      " 7   New Post Avg. Likes  200 non-null    object \n",
      " 8   Total Likes          200 non-null    object \n",
      " 9   Country Or Region    137 non-null    object \n",
      "dtypes: float64(3), object(7)\n",
      "memory usage: 15.8+ KB\n"
     ]
    }
   ],
   "source": [
    "insta.info()"
   ]
  },
  {
   "cell_type": "code",
   "execution_count": 5,
   "id": "b32b9fa3",
   "metadata": {
    "scrolled": true
   },
   "outputs": [
    {
     "data": {
      "text/plain": [
       "Rank                    0\n",
       "Channel Info            0\n",
       "Influence Score         0\n",
       "Followers               0\n",
       "Avg. Likes              0\n",
       "Posts                   0\n",
       "60-Day Eng Rate         0\n",
       "New Post Avg. Likes     0\n",
       "Total Likes             0\n",
       "Country Or Region      63\n",
       "dtype: int64"
      ]
     },
     "execution_count": 5,
     "metadata": {},
     "output_type": "execute_result"
    }
   ],
   "source": [
    "insta.isnull().sum()"
   ]
  },
  {
   "cell_type": "code",
   "execution_count": 6,
   "id": "7fd736f7",
   "metadata": {},
   "outputs": [],
   "source": [
    "insta[\"Country Or Region\"].fillna(\"Other\",inplace=True)"
   ]
  },
  {
   "cell_type": "code",
   "execution_count": 7,
   "id": "7b113997",
   "metadata": {
    "scrolled": false
   },
   "outputs": [
    {
     "data": {
      "text/html": [
       "<div>\n",
       "<style scoped>\n",
       "    .dataframe tbody tr th:only-of-type {\n",
       "        vertical-align: middle;\n",
       "    }\n",
       "\n",
       "    .dataframe tbody tr th {\n",
       "        vertical-align: top;\n",
       "    }\n",
       "\n",
       "    .dataframe thead th {\n",
       "        text-align: right;\n",
       "    }\n",
       "</style>\n",
       "<table border=\"1\" class=\"dataframe\">\n",
       "  <thead>\n",
       "    <tr style=\"text-align: right;\">\n",
       "      <th></th>\n",
       "      <th>Rank</th>\n",
       "      <th>Channel Info</th>\n",
       "      <th>Influence Score</th>\n",
       "      <th>Followers</th>\n",
       "      <th>Avg. Likes</th>\n",
       "      <th>Posts</th>\n",
       "      <th>60-Day Eng Rate</th>\n",
       "      <th>New Post Avg. Likes</th>\n",
       "      <th>Total Likes</th>\n",
       "      <th>Country Or Region</th>\n",
       "    </tr>\n",
       "  </thead>\n",
       "  <tbody>\n",
       "    <tr>\n",
       "      <th>0</th>\n",
       "      <td>1.0</td>\n",
       "      <td>\\ncristiano</td>\n",
       "      <td>92.0</td>\n",
       "      <td>485.2m</td>\n",
       "      <td>8.7m</td>\n",
       "      <td>3.4k</td>\n",
       "      <td>0.013</td>\n",
       "      <td>6.3m</td>\n",
       "      <td>29.1b</td>\n",
       "      <td>Spain</td>\n",
       "    </tr>\n",
       "    <tr>\n",
       "      <th>1</th>\n",
       "      <td>2.0</td>\n",
       "      <td>kyliejenner</td>\n",
       "      <td>91.0</td>\n",
       "      <td>370.7m</td>\n",
       "      <td>8.2m</td>\n",
       "      <td>7.0k</td>\n",
       "      <td>0.014</td>\n",
       "      <td>5.0m</td>\n",
       "      <td>57.4b</td>\n",
       "      <td>United States</td>\n",
       "    </tr>\n",
       "    <tr>\n",
       "      <th>2</th>\n",
       "      <td>3.0</td>\n",
       "      <td>\\nleomessi</td>\n",
       "      <td>90.0</td>\n",
       "      <td>363.9m</td>\n",
       "      <td>6.7m</td>\n",
       "      <td>915.0</td>\n",
       "      <td>0.010</td>\n",
       "      <td>3.5m</td>\n",
       "      <td>6.1b</td>\n",
       "      <td>Other</td>\n",
       "    </tr>\n",
       "    <tr>\n",
       "      <th>3</th>\n",
       "      <td>4.0</td>\n",
       "      <td>\\nselenagomez</td>\n",
       "      <td>93.0</td>\n",
       "      <td>348.8m</td>\n",
       "      <td>6.1m</td>\n",
       "      <td>1.9k</td>\n",
       "      <td>0.005</td>\n",
       "      <td>1.7m</td>\n",
       "      <td>11.4b</td>\n",
       "      <td>United States</td>\n",
       "    </tr>\n",
       "    <tr>\n",
       "      <th>4</th>\n",
       "      <td>5.0</td>\n",
       "      <td>\\ntherock</td>\n",
       "      <td>91.0</td>\n",
       "      <td>339.4m</td>\n",
       "      <td>1.8m</td>\n",
       "      <td>6.8k</td>\n",
       "      <td>0.003</td>\n",
       "      <td>932.0k</td>\n",
       "      <td>12.6b</td>\n",
       "      <td>United States</td>\n",
       "    </tr>\n",
       "  </tbody>\n",
       "</table>\n",
       "</div>"
      ],
      "text/plain": [
       "   Rank   Channel Info  Influence Score Followers Avg. Likes  Posts  \\\n",
       "0   1.0    \\ncristiano             92.0    485.2m       8.7m   3.4k   \n",
       "1   2.0    kyliejenner             91.0    370.7m       8.2m   7.0k   \n",
       "2   3.0     \\nleomessi             90.0    363.9m       6.7m  915.0   \n",
       "3   4.0  \\nselenagomez             93.0    348.8m       6.1m   1.9k   \n",
       "4   5.0      \\ntherock             91.0    339.4m       1.8m   6.8k   \n",
       "\n",
       "   60-Day Eng Rate New Post Avg. Likes Total Likes Country Or Region  \n",
       "0            0.013                6.3m       29.1b             Spain  \n",
       "1            0.014                5.0m       57.4b     United States  \n",
       "2            0.010                3.5m        6.1b             Other  \n",
       "3            0.005                1.7m       11.4b     United States  \n",
       "4            0.003              932.0k       12.6b     United States  "
      ]
     },
     "execution_count": 7,
     "metadata": {},
     "output_type": "execute_result"
    }
   ],
   "source": [
    "insta.head()"
   ]
  },
  {
   "cell_type": "markdown",
   "id": "3d720398",
   "metadata": {},
   "source": [
    "# Data cleaning"
   ]
  },
  {
   "cell_type": "markdown",
   "id": "ed0893f7",
   "metadata": {},
   "source": [
    "## Rank feature"
   ]
  },
  {
   "cell_type": "code",
   "execution_count": 8,
   "id": "b1e0bf81",
   "metadata": {},
   "outputs": [
    {
     "data": {
      "text/plain": [
       "array([  1.,   2.,   3.,   4.,   5.,   6.,   7.,   8.,   9.,  10.,  11.,\n",
       "        12.,  13.,  14.,  15.,  16.,  17.,  18.,  19.,  20.,  21.,  22.,\n",
       "        23.,  24.,  25.,  26.,  27.,  28.,  29.,  30.,  31.,  32.,  33.,\n",
       "        34.,  35.,  36.,  37.,  38.,  39.,  40.,  41.,  42.,  43.,  44.,\n",
       "        45.,  46.,  47.,  48.,  49.,  50.,  51.,  52.,  53.,  54.,  55.,\n",
       "        56.,  57.,  58.,  59.,  60.,  61.,  62.,  63.,  64.,  65.,  66.,\n",
       "        67.,  68.,  69.,  70.,  71.,  72.,  73.,  74.,  75.,  76.,  77.,\n",
       "        78.,  79.,  80.,  81.,  82.,  83.,  84.,  85.,  86.,  87.,  88.,\n",
       "        89.,  90.,  91.,  92.,  93.,  94.,  95.,  96.,  97.,  98.,  99.,\n",
       "       100., 101., 102., 103., 104., 105., 106., 107., 108., 109., 110.,\n",
       "       111., 112., 113., 114., 115., 116., 117., 118., 119., 120., 121.,\n",
       "       122., 123., 124., 125., 126., 127., 128., 129., 130., 131., 132.,\n",
       "       133., 134., 135., 136., 137., 138., 139., 140., 141., 142., 143.,\n",
       "       144., 145., 146., 147., 148., 149., 150., 151., 152., 153., 154.,\n",
       "       155., 156., 157., 158., 159., 160., 161., 162., 163., 164., 165.,\n",
       "       166., 167., 168., 169., 170., 171., 172., 173., 174., 175., 176.,\n",
       "       177., 178., 179., 180., 181., 182., 183., 184., 185., 186., 187.,\n",
       "       188., 189., 190., 191., 192., 193., 194., 195., 196., 197., 198.,\n",
       "       199., 200.])"
      ]
     },
     "execution_count": 8,
     "metadata": {},
     "output_type": "execute_result"
    }
   ],
   "source": [
    "insta[\"Rank\"].unique()"
   ]
  },
  {
   "cell_type": "markdown",
   "id": "2cfac5d4",
   "metadata": {},
   "source": [
    "## Channel info feature"
   ]
  },
  {
   "cell_type": "code",
   "execution_count": 9,
   "id": "11a7eefb",
   "metadata": {
    "scrolled": true
   },
   "outputs": [
    {
     "data": {
      "text/html": [
       "<div>\n",
       "<style scoped>\n",
       "    .dataframe tbody tr th:only-of-type {\n",
       "        vertical-align: middle;\n",
       "    }\n",
       "\n",
       "    .dataframe tbody tr th {\n",
       "        vertical-align: top;\n",
       "    }\n",
       "\n",
       "    .dataframe thead th {\n",
       "        text-align: right;\n",
       "    }\n",
       "</style>\n",
       "<table border=\"1\" class=\"dataframe\">\n",
       "  <thead>\n",
       "    <tr style=\"text-align: right;\">\n",
       "      <th></th>\n",
       "      <th>Rank</th>\n",
       "      <th>Channel Info</th>\n",
       "      <th>Influence Score</th>\n",
       "      <th>Followers</th>\n",
       "      <th>Avg. Likes</th>\n",
       "      <th>Posts</th>\n",
       "      <th>60-Day Eng Rate</th>\n",
       "      <th>New Post Avg. Likes</th>\n",
       "      <th>Total Likes</th>\n",
       "      <th>Country Or Region</th>\n",
       "    </tr>\n",
       "  </thead>\n",
       "  <tbody>\n",
       "    <tr>\n",
       "      <th>0</th>\n",
       "      <td>1.0</td>\n",
       "      <td>Cristiano</td>\n",
       "      <td>92.0</td>\n",
       "      <td>485.2m</td>\n",
       "      <td>8.7m</td>\n",
       "      <td>3.4k</td>\n",
       "      <td>0.013</td>\n",
       "      <td>6.3m</td>\n",
       "      <td>29.1b</td>\n",
       "      <td>Spain</td>\n",
       "    </tr>\n",
       "    <tr>\n",
       "      <th>1</th>\n",
       "      <td>2.0</td>\n",
       "      <td>Kyliejenner</td>\n",
       "      <td>91.0</td>\n",
       "      <td>370.7m</td>\n",
       "      <td>8.2m</td>\n",
       "      <td>7.0k</td>\n",
       "      <td>0.014</td>\n",
       "      <td>5.0m</td>\n",
       "      <td>57.4b</td>\n",
       "      <td>United States</td>\n",
       "    </tr>\n",
       "    <tr>\n",
       "      <th>2</th>\n",
       "      <td>3.0</td>\n",
       "      <td>Leomessi</td>\n",
       "      <td>90.0</td>\n",
       "      <td>363.9m</td>\n",
       "      <td>6.7m</td>\n",
       "      <td>915.0</td>\n",
       "      <td>0.010</td>\n",
       "      <td>3.5m</td>\n",
       "      <td>6.1b</td>\n",
       "      <td>Other</td>\n",
       "    </tr>\n",
       "    <tr>\n",
       "      <th>3</th>\n",
       "      <td>4.0</td>\n",
       "      <td>Selenagomez</td>\n",
       "      <td>93.0</td>\n",
       "      <td>348.8m</td>\n",
       "      <td>6.1m</td>\n",
       "      <td>1.9k</td>\n",
       "      <td>0.005</td>\n",
       "      <td>1.7m</td>\n",
       "      <td>11.4b</td>\n",
       "      <td>United States</td>\n",
       "    </tr>\n",
       "    <tr>\n",
       "      <th>4</th>\n",
       "      <td>5.0</td>\n",
       "      <td>Therock</td>\n",
       "      <td>91.0</td>\n",
       "      <td>339.4m</td>\n",
       "      <td>1.8m</td>\n",
       "      <td>6.8k</td>\n",
       "      <td>0.003</td>\n",
       "      <td>932.0k</td>\n",
       "      <td>12.6b</td>\n",
       "      <td>United States</td>\n",
       "    </tr>\n",
       "  </tbody>\n",
       "</table>\n",
       "</div>"
      ],
      "text/plain": [
       "   Rank Channel Info  Influence Score Followers Avg. Likes  Posts  \\\n",
       "0   1.0    Cristiano             92.0    485.2m       8.7m   3.4k   \n",
       "1   2.0  Kyliejenner             91.0    370.7m       8.2m   7.0k   \n",
       "2   3.0     Leomessi             90.0    363.9m       6.7m  915.0   \n",
       "3   4.0  Selenagomez             93.0    348.8m       6.1m   1.9k   \n",
       "4   5.0      Therock             91.0    339.4m       1.8m   6.8k   \n",
       "\n",
       "   60-Day Eng Rate New Post Avg. Likes Total Likes Country Or Region  \n",
       "0            0.013                6.3m       29.1b             Spain  \n",
       "1            0.014                5.0m       57.4b     United States  \n",
       "2            0.010                3.5m        6.1b             Other  \n",
       "3            0.005                1.7m       11.4b     United States  \n",
       "4            0.003              932.0k       12.6b     United States  "
      ]
     },
     "execution_count": 9,
     "metadata": {},
     "output_type": "execute_result"
    }
   ],
   "source": [
    "insta[\"Channel Info\"]=insta[\"Channel Info\"].astype(\"str\")\n",
    "\n",
    "insta[\"Channel Info\"]=insta[\"Channel Info\"].apply(lambda x: x.strip(\"\\n\"))\n",
    "\n",
    "insta[\"Channel Info\"]=insta[\"Channel Info\"].apply(lambda x: x.capitalize())\n",
    "\n",
    "insta.head()"
   ]
  },
  {
   "cell_type": "markdown",
   "id": "c47055da",
   "metadata": {},
   "source": [
    "## For visualization on data we take a copy of the data"
   ]
  },
  {
   "cell_type": "code",
   "execution_count": 10,
   "id": "55c0a5bb",
   "metadata": {},
   "outputs": [],
   "source": [
    "instagram_data=insta.copy()"
   ]
  },
  {
   "cell_type": "markdown",
   "id": "bbf08213",
   "metadata": {},
   "source": [
    "## Follower feature"
   ]
  },
  {
   "cell_type": "code",
   "execution_count": 11,
   "id": "ce5312e2",
   "metadata": {},
   "outputs": [],
   "source": [
    "millon_follower=insta[insta[\"Followers\"].apply(lambda x: x[-1]==\"m\")]\n",
    "\n",
    "k_follower=insta[insta[\"Followers\"].apply(lambda x: x[-1]==\"k\")]\n",
    "\n",
    "num_follower=insta[insta[\"Followers\"].apply(lambda x: x[-1] in \"0123456789\")]"
   ]
  },
  {
   "cell_type": "code",
   "execution_count": 12,
   "id": "0a8894ff",
   "metadata": {},
   "outputs": [],
   "source": [
    "def billon(x):\n",
    "    a=x.strip(\"b\")\n",
    "    b=pd.to_numeric(a)\n",
    "    b=b*1000000000\n",
    "    return b"
   ]
  },
  {
   "cell_type": "code",
   "execution_count": 13,
   "id": "d992fbed",
   "metadata": {},
   "outputs": [],
   "source": [
    "def millons(x):\n",
    "    a=x.strip(\"m\")\n",
    "    b=pd.to_numeric(a)\n",
    "    b=b*1000000\n",
    "    return b"
   ]
  },
  {
   "cell_type": "code",
   "execution_count": 14,
   "id": "5da9ef63",
   "metadata": {},
   "outputs": [],
   "source": [
    "def k(x):\n",
    "    a=x.strip(\"k\")\n",
    "    b=pd.to_numeric(a)\n",
    "    b=b*1000\n",
    "    return b"
   ]
  },
  {
   "cell_type": "code",
   "execution_count": 15,
   "id": "33ad4edb",
   "metadata": {
    "scrolled": true
   },
   "outputs": [
    {
     "data": {
      "text/html": [
       "<div>\n",
       "<style scoped>\n",
       "    .dataframe tbody tr th:only-of-type {\n",
       "        vertical-align: middle;\n",
       "    }\n",
       "\n",
       "    .dataframe tbody tr th {\n",
       "        vertical-align: top;\n",
       "    }\n",
       "\n",
       "    .dataframe thead th {\n",
       "        text-align: right;\n",
       "    }\n",
       "</style>\n",
       "<table border=\"1\" class=\"dataframe\">\n",
       "  <thead>\n",
       "    <tr style=\"text-align: right;\">\n",
       "      <th></th>\n",
       "      <th>Rank</th>\n",
       "      <th>Channel Info</th>\n",
       "      <th>Influence Score</th>\n",
       "      <th>Followers</th>\n",
       "      <th>Avg. Likes</th>\n",
       "      <th>Posts</th>\n",
       "      <th>60-Day Eng Rate</th>\n",
       "      <th>New Post Avg. Likes</th>\n",
       "      <th>Total Likes</th>\n",
       "      <th>Country Or Region</th>\n",
       "    </tr>\n",
       "  </thead>\n",
       "  <tbody>\n",
       "    <tr>\n",
       "      <th>0</th>\n",
       "      <td>1.0</td>\n",
       "      <td>Cristiano</td>\n",
       "      <td>92.0</td>\n",
       "      <td>485200000.0</td>\n",
       "      <td>8.7m</td>\n",
       "      <td>3.4k</td>\n",
       "      <td>0.013</td>\n",
       "      <td>6.3m</td>\n",
       "      <td>29.1b</td>\n",
       "      <td>Spain</td>\n",
       "    </tr>\n",
       "    <tr>\n",
       "      <th>1</th>\n",
       "      <td>2.0</td>\n",
       "      <td>Kyliejenner</td>\n",
       "      <td>91.0</td>\n",
       "      <td>370700000.0</td>\n",
       "      <td>8.2m</td>\n",
       "      <td>7.0k</td>\n",
       "      <td>0.014</td>\n",
       "      <td>5.0m</td>\n",
       "      <td>57.4b</td>\n",
       "      <td>United States</td>\n",
       "    </tr>\n",
       "    <tr>\n",
       "      <th>2</th>\n",
       "      <td>3.0</td>\n",
       "      <td>Leomessi</td>\n",
       "      <td>90.0</td>\n",
       "      <td>363900000.0</td>\n",
       "      <td>6.7m</td>\n",
       "      <td>915.0</td>\n",
       "      <td>0.010</td>\n",
       "      <td>3.5m</td>\n",
       "      <td>6.1b</td>\n",
       "      <td>Other</td>\n",
       "    </tr>\n",
       "    <tr>\n",
       "      <th>3</th>\n",
       "      <td>4.0</td>\n",
       "      <td>Selenagomez</td>\n",
       "      <td>93.0</td>\n",
       "      <td>348800000.0</td>\n",
       "      <td>6.1m</td>\n",
       "      <td>1.9k</td>\n",
       "      <td>0.005</td>\n",
       "      <td>1.7m</td>\n",
       "      <td>11.4b</td>\n",
       "      <td>United States</td>\n",
       "    </tr>\n",
       "    <tr>\n",
       "      <th>4</th>\n",
       "      <td>5.0</td>\n",
       "      <td>Therock</td>\n",
       "      <td>91.0</td>\n",
       "      <td>339400000.0</td>\n",
       "      <td>1.8m</td>\n",
       "      <td>6.8k</td>\n",
       "      <td>0.003</td>\n",
       "      <td>932.0k</td>\n",
       "      <td>12.6b</td>\n",
       "      <td>United States</td>\n",
       "    </tr>\n",
       "  </tbody>\n",
       "</table>\n",
       "</div>"
      ],
      "text/plain": [
       "   Rank Channel Info  Influence Score    Followers Avg. Likes  Posts  \\\n",
       "0   1.0    Cristiano             92.0  485200000.0       8.7m   3.4k   \n",
       "1   2.0  Kyliejenner             91.0  370700000.0       8.2m   7.0k   \n",
       "2   3.0     Leomessi             90.0  363900000.0       6.7m  915.0   \n",
       "3   4.0  Selenagomez             93.0  348800000.0       6.1m   1.9k   \n",
       "4   5.0      Therock             91.0  339400000.0       1.8m   6.8k   \n",
       "\n",
       "   60-Day Eng Rate New Post Avg. Likes Total Likes Country Or Region  \n",
       "0            0.013                6.3m       29.1b             Spain  \n",
       "1            0.014                5.0m       57.4b     United States  \n",
       "2            0.010                3.5m        6.1b             Other  \n",
       "3            0.005                1.7m       11.4b     United States  \n",
       "4            0.003              932.0k       12.6b     United States  "
      ]
     },
     "execution_count": 15,
     "metadata": {},
     "output_type": "execute_result"
    }
   ],
   "source": [
    "millon_follower[\"Followers\"]=millon_follower[\"Followers\"].apply(millons)\n",
    "\n",
    "k_follower[\"Followers\"]=k_follower[\"Followers\"].apply(k)\n",
    "\n",
    "insta= pd.concat([millon_follower,k_follower,num_follower],axis=0)\n",
    "\n",
    "insta.head()"
   ]
  },
  {
   "cell_type": "markdown",
   "id": "ca71768a",
   "metadata": {},
   "source": [
    "## Average likes feature"
   ]
  },
  {
   "cell_type": "code",
   "execution_count": 16,
   "id": "a6dd8ebb",
   "metadata": {},
   "outputs": [],
   "source": [
    "millon_follower=insta[insta[\"Avg. Likes\"].apply(lambda x: x[-1]==\"m\")]\n",
    "\n",
    "k_follower=insta[insta[\"Avg. Likes\"].apply(lambda x: x[-1]==\"k\")]\n",
    "\n",
    "num_follower=insta[insta[\"Avg. Likes\"].apply(lambda x: x[-1] in \"0123456789\")]"
   ]
  },
  {
   "cell_type": "code",
   "execution_count": 17,
   "id": "762893db",
   "metadata": {},
   "outputs": [
    {
     "data": {
      "text/html": [
       "<div>\n",
       "<style scoped>\n",
       "    .dataframe tbody tr th:only-of-type {\n",
       "        vertical-align: middle;\n",
       "    }\n",
       "\n",
       "    .dataframe tbody tr th {\n",
       "        vertical-align: top;\n",
       "    }\n",
       "\n",
       "    .dataframe thead th {\n",
       "        text-align: right;\n",
       "    }\n",
       "</style>\n",
       "<table border=\"1\" class=\"dataframe\">\n",
       "  <thead>\n",
       "    <tr style=\"text-align: right;\">\n",
       "      <th></th>\n",
       "      <th>Rank</th>\n",
       "      <th>Channel Info</th>\n",
       "      <th>Influence Score</th>\n",
       "      <th>Followers</th>\n",
       "      <th>Avg. Likes</th>\n",
       "      <th>Posts</th>\n",
       "      <th>60-Day Eng Rate</th>\n",
       "      <th>New Post Avg. Likes</th>\n",
       "      <th>Total Likes</th>\n",
       "      <th>Country Or Region</th>\n",
       "    </tr>\n",
       "  </thead>\n",
       "  <tbody>\n",
       "    <tr>\n",
       "      <th>0</th>\n",
       "      <td>1.0</td>\n",
       "      <td>Cristiano</td>\n",
       "      <td>92.0</td>\n",
       "      <td>485200000.0</td>\n",
       "      <td>8700000.0</td>\n",
       "      <td>3.4k</td>\n",
       "      <td>0.013</td>\n",
       "      <td>6.3m</td>\n",
       "      <td>29.1b</td>\n",
       "      <td>Spain</td>\n",
       "    </tr>\n",
       "    <tr>\n",
       "      <th>1</th>\n",
       "      <td>2.0</td>\n",
       "      <td>Kyliejenner</td>\n",
       "      <td>91.0</td>\n",
       "      <td>370700000.0</td>\n",
       "      <td>8200000.0</td>\n",
       "      <td>7.0k</td>\n",
       "      <td>0.014</td>\n",
       "      <td>5.0m</td>\n",
       "      <td>57.4b</td>\n",
       "      <td>United States</td>\n",
       "    </tr>\n",
       "    <tr>\n",
       "      <th>2</th>\n",
       "      <td>3.0</td>\n",
       "      <td>Leomessi</td>\n",
       "      <td>90.0</td>\n",
       "      <td>363900000.0</td>\n",
       "      <td>6700000.0</td>\n",
       "      <td>915.0</td>\n",
       "      <td>0.010</td>\n",
       "      <td>3.5m</td>\n",
       "      <td>6.1b</td>\n",
       "      <td>Other</td>\n",
       "    </tr>\n",
       "    <tr>\n",
       "      <th>3</th>\n",
       "      <td>4.0</td>\n",
       "      <td>Selenagomez</td>\n",
       "      <td>93.0</td>\n",
       "      <td>348800000.0</td>\n",
       "      <td>6100000.0</td>\n",
       "      <td>1.9k</td>\n",
       "      <td>0.005</td>\n",
       "      <td>1.7m</td>\n",
       "      <td>11.4b</td>\n",
       "      <td>United States</td>\n",
       "    </tr>\n",
       "    <tr>\n",
       "      <th>4</th>\n",
       "      <td>5.0</td>\n",
       "      <td>Therock</td>\n",
       "      <td>91.0</td>\n",
       "      <td>339400000.0</td>\n",
       "      <td>1800000.0</td>\n",
       "      <td>6.8k</td>\n",
       "      <td>0.003</td>\n",
       "      <td>932.0k</td>\n",
       "      <td>12.6b</td>\n",
       "      <td>United States</td>\n",
       "    </tr>\n",
       "  </tbody>\n",
       "</table>\n",
       "</div>"
      ],
      "text/plain": [
       "   Rank Channel Info  Influence Score    Followers Avg. Likes  Posts  \\\n",
       "0   1.0    Cristiano             92.0  485200000.0  8700000.0   3.4k   \n",
       "1   2.0  Kyliejenner             91.0  370700000.0  8200000.0   7.0k   \n",
       "2   3.0     Leomessi             90.0  363900000.0  6700000.0  915.0   \n",
       "3   4.0  Selenagomez             93.0  348800000.0  6100000.0   1.9k   \n",
       "4   5.0      Therock             91.0  339400000.0  1800000.0   6.8k   \n",
       "\n",
       "   60-Day Eng Rate New Post Avg. Likes Total Likes Country Or Region  \n",
       "0            0.013                6.3m       29.1b             Spain  \n",
       "1            0.014                5.0m       57.4b     United States  \n",
       "2            0.010                3.5m        6.1b             Other  \n",
       "3            0.005                1.7m       11.4b     United States  \n",
       "4            0.003              932.0k       12.6b     United States  "
      ]
     },
     "execution_count": 17,
     "metadata": {},
     "output_type": "execute_result"
    }
   ],
   "source": [
    "millon_follower[\"Avg. Likes\"]=millon_follower[\"Avg. Likes\"].apply(millons)\n",
    "\n",
    "k_follower[\"Avg. Likes\"]=k_follower[\"Avg. Likes\"].apply(k)\n",
    "\n",
    "insta= pd.concat([millon_follower,k_follower,num_follower],axis=0)\n",
    "\n",
    "insta.head()"
   ]
  },
  {
   "cell_type": "markdown",
   "id": "6e0714ec",
   "metadata": {},
   "source": [
    "## Posts feature"
   ]
  },
  {
   "cell_type": "code",
   "execution_count": 18,
   "id": "7f1a0620",
   "metadata": {},
   "outputs": [],
   "source": [
    "insta[\"Posts\"]=insta[\"Posts\"].astype(\"str\")\n",
    "\n",
    "millon_follower=insta[insta[\"Posts\"].apply(lambda x: x[-1]==\"m\")]\n",
    "\n",
    "k_follower=insta[insta[\"Posts\"].apply(lambda x: x[-1]==\"k\")]\n",
    "\n",
    "num_follower=insta[insta[\"Posts\"].apply(lambda x: x[-1] in \"0123456789\")]"
   ]
  },
  {
   "cell_type": "code",
   "execution_count": 19,
   "id": "b5fa44f1",
   "metadata": {
    "scrolled": false
   },
   "outputs": [
    {
     "data": {
      "text/html": [
       "<div>\n",
       "<style scoped>\n",
       "    .dataframe tbody tr th:only-of-type {\n",
       "        vertical-align: middle;\n",
       "    }\n",
       "\n",
       "    .dataframe tbody tr th {\n",
       "        vertical-align: top;\n",
       "    }\n",
       "\n",
       "    .dataframe thead th {\n",
       "        text-align: right;\n",
       "    }\n",
       "</style>\n",
       "<table border=\"1\" class=\"dataframe\">\n",
       "  <thead>\n",
       "    <tr style=\"text-align: right;\">\n",
       "      <th></th>\n",
       "      <th>Rank</th>\n",
       "      <th>Channel Info</th>\n",
       "      <th>Influence Score</th>\n",
       "      <th>Followers</th>\n",
       "      <th>Avg. Likes</th>\n",
       "      <th>Posts</th>\n",
       "      <th>60-Day Eng Rate</th>\n",
       "      <th>New Post Avg. Likes</th>\n",
       "      <th>Total Likes</th>\n",
       "      <th>Country Or Region</th>\n",
       "    </tr>\n",
       "  </thead>\n",
       "  <tbody>\n",
       "    <tr>\n",
       "      <th>0</th>\n",
       "      <td>1.0</td>\n",
       "      <td>Cristiano</td>\n",
       "      <td>92.0</td>\n",
       "      <td>485200000.0</td>\n",
       "      <td>8700000.0</td>\n",
       "      <td>3400.0</td>\n",
       "      <td>0.013</td>\n",
       "      <td>6.3m</td>\n",
       "      <td>29.1b</td>\n",
       "      <td>Spain</td>\n",
       "    </tr>\n",
       "    <tr>\n",
       "      <th>1</th>\n",
       "      <td>2.0</td>\n",
       "      <td>Kyliejenner</td>\n",
       "      <td>91.0</td>\n",
       "      <td>370700000.0</td>\n",
       "      <td>8200000.0</td>\n",
       "      <td>7000.0</td>\n",
       "      <td>0.014</td>\n",
       "      <td>5.0m</td>\n",
       "      <td>57.4b</td>\n",
       "      <td>United States</td>\n",
       "    </tr>\n",
       "    <tr>\n",
       "      <th>3</th>\n",
       "      <td>4.0</td>\n",
       "      <td>Selenagomez</td>\n",
       "      <td>93.0</td>\n",
       "      <td>348800000.0</td>\n",
       "      <td>6100000.0</td>\n",
       "      <td>1900.0</td>\n",
       "      <td>0.005</td>\n",
       "      <td>1.7m</td>\n",
       "      <td>11.4b</td>\n",
       "      <td>United States</td>\n",
       "    </tr>\n",
       "    <tr>\n",
       "      <th>4</th>\n",
       "      <td>5.0</td>\n",
       "      <td>Therock</td>\n",
       "      <td>91.0</td>\n",
       "      <td>339400000.0</td>\n",
       "      <td>1800000.0</td>\n",
       "      <td>6800.0</td>\n",
       "      <td>0.003</td>\n",
       "      <td>932.0k</td>\n",
       "      <td>12.6b</td>\n",
       "      <td>United States</td>\n",
       "    </tr>\n",
       "    <tr>\n",
       "      <th>5</th>\n",
       "      <td>6.0</td>\n",
       "      <td>Arianagrande</td>\n",
       "      <td>92.0</td>\n",
       "      <td>333000000.0</td>\n",
       "      <td>3700000.0</td>\n",
       "      <td>5000.0</td>\n",
       "      <td>0.009</td>\n",
       "      <td>3.1m</td>\n",
       "      <td>18.5b</td>\n",
       "      <td>United States</td>\n",
       "    </tr>\n",
       "    <tr>\n",
       "      <th>...</th>\n",
       "      <td>...</td>\n",
       "      <td>...</td>\n",
       "      <td>...</td>\n",
       "      <td>...</td>\n",
       "      <td>...</td>\n",
       "      <td>...</td>\n",
       "      <td>...</td>\n",
       "      <td>...</td>\n",
       "      <td>...</td>\n",
       "      <td>...</td>\n",
       "    </tr>\n",
       "    <tr>\n",
       "      <th>171</th>\n",
       "      <td>172.0</td>\n",
       "      <td>Eminem</td>\n",
       "      <td>84.0</td>\n",
       "      <td>36600000.0</td>\n",
       "      <td>988400.0</td>\n",
       "      <td>691.0</td>\n",
       "      <td>0.011</td>\n",
       "      <td>382.5k</td>\n",
       "      <td>683.0m</td>\n",
       "      <td>United States</td>\n",
       "    </tr>\n",
       "    <tr>\n",
       "      <th>174</th>\n",
       "      <td>175.0</td>\n",
       "      <td>Nattinatasha</td>\n",
       "      <td>47.0</td>\n",
       "      <td>36100000.0</td>\n",
       "      <td>513200.0</td>\n",
       "      <td>59.0</td>\n",
       "      <td>0.006</td>\n",
       "      <td>201.6k</td>\n",
       "      <td>30.3m</td>\n",
       "      <td>Czech Republic</td>\n",
       "    </tr>\n",
       "    <tr>\n",
       "      <th>181</th>\n",
       "      <td>182.0</td>\n",
       "      <td>Toni.krs</td>\n",
       "      <td>83.0</td>\n",
       "      <td>35600000.0</td>\n",
       "      <td>597800.0</td>\n",
       "      <td>946.0</td>\n",
       "      <td>0.012</td>\n",
       "      <td>432.5k</td>\n",
       "      <td>565.5m</td>\n",
       "      <td>Other</td>\n",
       "    </tr>\n",
       "    <tr>\n",
       "      <th>189</th>\n",
       "      <td>190.0</td>\n",
       "      <td>Adidasoriginals</td>\n",
       "      <td>83.0</td>\n",
       "      <td>34100000.0</td>\n",
       "      <td>136200.0</td>\n",
       "      <td>180.0</td>\n",
       "      <td>0.002</td>\n",
       "      <td>66.8k</td>\n",
       "      <td>24.5m</td>\n",
       "      <td>Other</td>\n",
       "    </tr>\n",
       "    <tr>\n",
       "      <th>198</th>\n",
       "      <td>199.0</td>\n",
       "      <td>Luansantana</td>\n",
       "      <td>79.0</td>\n",
       "      <td>33500000.0</td>\n",
       "      <td>193300.0</td>\n",
       "      <td>865.0</td>\n",
       "      <td>0.003</td>\n",
       "      <td>82.6k</td>\n",
       "      <td>167.2m</td>\n",
       "      <td>Brazil</td>\n",
       "    </tr>\n",
       "  </tbody>\n",
       "</table>\n",
       "<p>200 rows × 10 columns</p>\n",
       "</div>"
      ],
      "text/plain": [
       "      Rank     Channel Info  Influence Score    Followers Avg. Likes   Posts  \\\n",
       "0      1.0        Cristiano             92.0  485200000.0  8700000.0  3400.0   \n",
       "1      2.0      Kyliejenner             91.0  370700000.0  8200000.0  7000.0   \n",
       "3      4.0      Selenagomez             93.0  348800000.0  6100000.0  1900.0   \n",
       "4      5.0          Therock             91.0  339400000.0  1800000.0  6800.0   \n",
       "5      6.0     Arianagrande             92.0  333000000.0  3700000.0  5000.0   \n",
       "..     ...              ...              ...          ...        ...     ...   \n",
       "171  172.0           Eminem             84.0   36600000.0   988400.0   691.0   \n",
       "174  175.0     Nattinatasha             47.0   36100000.0   513200.0    59.0   \n",
       "181  182.0         Toni.krs             83.0   35600000.0   597800.0   946.0   \n",
       "189  190.0  Adidasoriginals             83.0   34100000.0   136200.0   180.0   \n",
       "198  199.0      Luansantana             79.0   33500000.0   193300.0   865.0   \n",
       "\n",
       "     60-Day Eng Rate New Post Avg. Likes Total Likes Country Or Region  \n",
       "0              0.013                6.3m       29.1b             Spain  \n",
       "1              0.014                5.0m       57.4b     United States  \n",
       "3              0.005                1.7m       11.4b     United States  \n",
       "4              0.003              932.0k       12.6b     United States  \n",
       "5              0.009                3.1m       18.5b     United States  \n",
       "..               ...                 ...         ...               ...  \n",
       "171            0.011              382.5k      683.0m     United States  \n",
       "174            0.006              201.6k       30.3m    Czech Republic  \n",
       "181            0.012              432.5k      565.5m             Other  \n",
       "189            0.002               66.8k       24.5m             Other  \n",
       "198            0.003               82.6k      167.2m            Brazil  \n",
       "\n",
       "[200 rows x 10 columns]"
      ]
     },
     "execution_count": 19,
     "metadata": {},
     "output_type": "execute_result"
    }
   ],
   "source": [
    "millon_follower[\"Posts\"]=millon_follower[\"Posts\"].apply(millons)\n",
    "\n",
    "k_follower[\"Posts\"]=k_follower[\"Posts\"].apply(k)\n",
    "\n",
    "insta= pd.concat([millon_follower,k_follower,num_follower],axis=0)\n",
    "\n",
    "insta"
   ]
  },
  {
   "cell_type": "markdown",
   "id": "483bd838",
   "metadata": {},
   "source": [
    "## New post like feature"
   ]
  },
  {
   "cell_type": "code",
   "execution_count": 20,
   "id": "ee48a708",
   "metadata": {},
   "outputs": [],
   "source": [
    "insta[\"New Post Avg. Likes\"]=insta[\"New Post Avg. Likes\"].astype(\"str\")\n",
    "\n",
    "millon_follower=insta[insta[\"New Post Avg. Likes\"].apply(lambda x: x[-1]==\"m\")]\n",
    "\n",
    "k_follower=insta[insta[\"New Post Avg. Likes\"].apply(lambda x: x[-1]==\"k\")]\n",
    "\n",
    "num_follower=insta[insta[\"New Post Avg. Likes\"].apply(lambda x: x[-1] in \"0123456789\")]"
   ]
  },
  {
   "cell_type": "code",
   "execution_count": 21,
   "id": "3c24d164",
   "metadata": {},
   "outputs": [
    {
     "data": {
      "text/html": [
       "<div>\n",
       "<style scoped>\n",
       "    .dataframe tbody tr th:only-of-type {\n",
       "        vertical-align: middle;\n",
       "    }\n",
       "\n",
       "    .dataframe tbody tr th {\n",
       "        vertical-align: top;\n",
       "    }\n",
       "\n",
       "    .dataframe thead th {\n",
       "        text-align: right;\n",
       "    }\n",
       "</style>\n",
       "<table border=\"1\" class=\"dataframe\">\n",
       "  <thead>\n",
       "    <tr style=\"text-align: right;\">\n",
       "      <th></th>\n",
       "      <th>Rank</th>\n",
       "      <th>Channel Info</th>\n",
       "      <th>Influence Score</th>\n",
       "      <th>Followers</th>\n",
       "      <th>Avg. Likes</th>\n",
       "      <th>Posts</th>\n",
       "      <th>60-Day Eng Rate</th>\n",
       "      <th>New Post Avg. Likes</th>\n",
       "      <th>Total Likes</th>\n",
       "      <th>Country Or Region</th>\n",
       "    </tr>\n",
       "  </thead>\n",
       "  <tbody>\n",
       "    <tr>\n",
       "      <th>0</th>\n",
       "      <td>1.0</td>\n",
       "      <td>Cristiano</td>\n",
       "      <td>92.0</td>\n",
       "      <td>485200000.0</td>\n",
       "      <td>8700000.0</td>\n",
       "      <td>3400.0</td>\n",
       "      <td>0.013</td>\n",
       "      <td>6300000.0</td>\n",
       "      <td>29.1b</td>\n",
       "      <td>Spain</td>\n",
       "    </tr>\n",
       "    <tr>\n",
       "      <th>1</th>\n",
       "      <td>2.0</td>\n",
       "      <td>Kyliejenner</td>\n",
       "      <td>91.0</td>\n",
       "      <td>370700000.0</td>\n",
       "      <td>8200000.0</td>\n",
       "      <td>7000.0</td>\n",
       "      <td>0.014</td>\n",
       "      <td>5000000.0</td>\n",
       "      <td>57.4b</td>\n",
       "      <td>United States</td>\n",
       "    </tr>\n",
       "    <tr>\n",
       "      <th>3</th>\n",
       "      <td>4.0</td>\n",
       "      <td>Selenagomez</td>\n",
       "      <td>93.0</td>\n",
       "      <td>348800000.0</td>\n",
       "      <td>6100000.0</td>\n",
       "      <td>1900.0</td>\n",
       "      <td>0.005</td>\n",
       "      <td>1700000.0</td>\n",
       "      <td>11.4b</td>\n",
       "      <td>United States</td>\n",
       "    </tr>\n",
       "    <tr>\n",
       "      <th>5</th>\n",
       "      <td>6.0</td>\n",
       "      <td>Arianagrande</td>\n",
       "      <td>92.0</td>\n",
       "      <td>333000000.0</td>\n",
       "      <td>3700000.0</td>\n",
       "      <td>5000.0</td>\n",
       "      <td>0.009</td>\n",
       "      <td>3100000.0</td>\n",
       "      <td>18.5b</td>\n",
       "      <td>United States</td>\n",
       "    </tr>\n",
       "    <tr>\n",
       "      <th>6</th>\n",
       "      <td>7.0</td>\n",
       "      <td>Kimkardashian</td>\n",
       "      <td>91.0</td>\n",
       "      <td>330700000.0</td>\n",
       "      <td>3500000.0</td>\n",
       "      <td>5700.0</td>\n",
       "      <td>0.005</td>\n",
       "      <td>1700000.0</td>\n",
       "      <td>19.8b</td>\n",
       "      <td>United States</td>\n",
       "    </tr>\n",
       "    <tr>\n",
       "      <th>...</th>\n",
       "      <td>...</td>\n",
       "      <td>...</td>\n",
       "      <td>...</td>\n",
       "      <td>...</td>\n",
       "      <td>...</td>\n",
       "      <td>...</td>\n",
       "      <td>...</td>\n",
       "      <td>...</td>\n",
       "      <td>...</td>\n",
       "      <td>...</td>\n",
       "    </tr>\n",
       "    <tr>\n",
       "      <th>174</th>\n",
       "      <td>175.0</td>\n",
       "      <td>Nattinatasha</td>\n",
       "      <td>47.0</td>\n",
       "      <td>36100000.0</td>\n",
       "      <td>513200.0</td>\n",
       "      <td>59.0</td>\n",
       "      <td>0.006</td>\n",
       "      <td>201600.0</td>\n",
       "      <td>30.3m</td>\n",
       "      <td>Czech Republic</td>\n",
       "    </tr>\n",
       "    <tr>\n",
       "      <th>181</th>\n",
       "      <td>182.0</td>\n",
       "      <td>Toni.krs</td>\n",
       "      <td>83.0</td>\n",
       "      <td>35600000.0</td>\n",
       "      <td>597800.0</td>\n",
       "      <td>946.0</td>\n",
       "      <td>0.012</td>\n",
       "      <td>432500.0</td>\n",
       "      <td>565.5m</td>\n",
       "      <td>Other</td>\n",
       "    </tr>\n",
       "    <tr>\n",
       "      <th>189</th>\n",
       "      <td>190.0</td>\n",
       "      <td>Adidasoriginals</td>\n",
       "      <td>83.0</td>\n",
       "      <td>34100000.0</td>\n",
       "      <td>136200.0</td>\n",
       "      <td>180.0</td>\n",
       "      <td>0.002</td>\n",
       "      <td>66800.0</td>\n",
       "      <td>24.5m</td>\n",
       "      <td>Other</td>\n",
       "    </tr>\n",
       "    <tr>\n",
       "      <th>198</th>\n",
       "      <td>199.0</td>\n",
       "      <td>Luansantana</td>\n",
       "      <td>79.0</td>\n",
       "      <td>33500000.0</td>\n",
       "      <td>193300.0</td>\n",
       "      <td>865.0</td>\n",
       "      <td>0.003</td>\n",
       "      <td>82600.0</td>\n",
       "      <td>167.2m</td>\n",
       "      <td>Brazil</td>\n",
       "    </tr>\n",
       "    <tr>\n",
       "      <th>156</th>\n",
       "      <td>157.0</td>\n",
       "      <td>Mahi7781</td>\n",
       "      <td>58.0</td>\n",
       "      <td>39500000.0</td>\n",
       "      <td>4100000.0</td>\n",
       "      <td>107.0</td>\n",
       "      <td>0.002</td>\n",
       "      <td>0.0</td>\n",
       "      <td>444.0m</td>\n",
       "      <td>Other</td>\n",
       "    </tr>\n",
       "  </tbody>\n",
       "</table>\n",
       "<p>200 rows × 10 columns</p>\n",
       "</div>"
      ],
      "text/plain": [
       "      Rank     Channel Info  Influence Score    Followers Avg. Likes   Posts  \\\n",
       "0      1.0        Cristiano             92.0  485200000.0  8700000.0  3400.0   \n",
       "1      2.0      Kyliejenner             91.0  370700000.0  8200000.0  7000.0   \n",
       "3      4.0      Selenagomez             93.0  348800000.0  6100000.0  1900.0   \n",
       "5      6.0     Arianagrande             92.0  333000000.0  3700000.0  5000.0   \n",
       "6      7.0    Kimkardashian             91.0  330700000.0  3500000.0  5700.0   \n",
       "..     ...              ...              ...          ...        ...     ...   \n",
       "174  175.0     Nattinatasha             47.0   36100000.0   513200.0    59.0   \n",
       "181  182.0         Toni.krs             83.0   35600000.0   597800.0   946.0   \n",
       "189  190.0  Adidasoriginals             83.0   34100000.0   136200.0   180.0   \n",
       "198  199.0      Luansantana             79.0   33500000.0   193300.0   865.0   \n",
       "156  157.0         Mahi7781             58.0   39500000.0  4100000.0   107.0   \n",
       "\n",
       "     60-Day Eng Rate New Post Avg. Likes Total Likes Country Or Region  \n",
       "0              0.013           6300000.0       29.1b             Spain  \n",
       "1              0.014           5000000.0       57.4b     United States  \n",
       "3              0.005           1700000.0       11.4b     United States  \n",
       "5              0.009           3100000.0       18.5b     United States  \n",
       "6              0.005           1700000.0       19.8b     United States  \n",
       "..               ...                 ...         ...               ...  \n",
       "174            0.006            201600.0       30.3m    Czech Republic  \n",
       "181            0.012            432500.0      565.5m             Other  \n",
       "189            0.002             66800.0       24.5m             Other  \n",
       "198            0.003             82600.0      167.2m            Brazil  \n",
       "156            0.002                 0.0      444.0m             Other  \n",
       "\n",
       "[200 rows x 10 columns]"
      ]
     },
     "execution_count": 21,
     "metadata": {},
     "output_type": "execute_result"
    }
   ],
   "source": [
    "millon_follower[\"New Post Avg. Likes\"]=millon_follower[\"New Post Avg. Likes\"].apply(millons)\n",
    "\n",
    "k_follower[\"New Post Avg. Likes\"]=k_follower[\"New Post Avg. Likes\"].apply(k)\n",
    "\n",
    "insta= pd.concat([millon_follower,k_follower,num_follower],axis=0)\n",
    "\n",
    "insta"
   ]
  },
  {
   "cell_type": "code",
   "execution_count": 22,
   "id": "70f30668",
   "metadata": {},
   "outputs": [],
   "source": [
    "insta[\"Total Likes\"]=insta[\"Total Likes\"].astype(\"str\")\n",
    "\n",
    "billon_follower=insta[insta[\"Total Likes\"].apply(lambda x: x[-1]==\"b\")]\n",
    "\n",
    "millon_follower=insta[insta[\"Total Likes\"].apply(lambda x: x[-1]==\"m\")]\n",
    "\n",
    "k_follower=insta[insta[\"Total Likes\"].apply(lambda x: x[-1]==\"k\")]\n",
    "\n",
    "num_follower=insta[insta[\"Total Likes\"].apply(lambda x: x[-1] in \"0123456789\")]"
   ]
  },
  {
   "cell_type": "code",
   "execution_count": 23,
   "id": "a72c9af8",
   "metadata": {
    "scrolled": false
   },
   "outputs": [
    {
     "data": {
      "text/html": [
       "<div>\n",
       "<style scoped>\n",
       "    .dataframe tbody tr th:only-of-type {\n",
       "        vertical-align: middle;\n",
       "    }\n",
       "\n",
       "    .dataframe tbody tr th {\n",
       "        vertical-align: top;\n",
       "    }\n",
       "\n",
       "    .dataframe thead th {\n",
       "        text-align: right;\n",
       "    }\n",
       "</style>\n",
       "<table border=\"1\" class=\"dataframe\">\n",
       "  <thead>\n",
       "    <tr style=\"text-align: right;\">\n",
       "      <th></th>\n",
       "      <th>Rank</th>\n",
       "      <th>Channel Info</th>\n",
       "      <th>Influence Score</th>\n",
       "      <th>Followers</th>\n",
       "      <th>Avg. Likes</th>\n",
       "      <th>Posts</th>\n",
       "      <th>60-Day Eng Rate</th>\n",
       "      <th>New Post Avg. Likes</th>\n",
       "      <th>Total Likes</th>\n",
       "      <th>Country Or Region</th>\n",
       "    </tr>\n",
       "  </thead>\n",
       "  <tbody>\n",
       "    <tr>\n",
       "      <th>0</th>\n",
       "      <td>1.0</td>\n",
       "      <td>Cristiano</td>\n",
       "      <td>92.0</td>\n",
       "      <td>485200000.0</td>\n",
       "      <td>8700000.0</td>\n",
       "      <td>3400.0</td>\n",
       "      <td>0.013</td>\n",
       "      <td>6300000.0</td>\n",
       "      <td>29100000000.0</td>\n",
       "      <td>Spain</td>\n",
       "    </tr>\n",
       "    <tr>\n",
       "      <th>1</th>\n",
       "      <td>2.0</td>\n",
       "      <td>Kyliejenner</td>\n",
       "      <td>91.0</td>\n",
       "      <td>370700000.0</td>\n",
       "      <td>8200000.0</td>\n",
       "      <td>7000.0</td>\n",
       "      <td>0.014</td>\n",
       "      <td>5000000.0</td>\n",
       "      <td>57400000000.0</td>\n",
       "      <td>United States</td>\n",
       "    </tr>\n",
       "    <tr>\n",
       "      <th>3</th>\n",
       "      <td>4.0</td>\n",
       "      <td>Selenagomez</td>\n",
       "      <td>93.0</td>\n",
       "      <td>348800000.0</td>\n",
       "      <td>6100000.0</td>\n",
       "      <td>1900.0</td>\n",
       "      <td>0.005</td>\n",
       "      <td>1700000.0</td>\n",
       "      <td>11400000000.0</td>\n",
       "      <td>United States</td>\n",
       "    </tr>\n",
       "    <tr>\n",
       "      <th>5</th>\n",
       "      <td>6.0</td>\n",
       "      <td>Arianagrande</td>\n",
       "      <td>92.0</td>\n",
       "      <td>333000000.0</td>\n",
       "      <td>3700000.0</td>\n",
       "      <td>5000.0</td>\n",
       "      <td>0.009</td>\n",
       "      <td>3100000.0</td>\n",
       "      <td>18500000000.0</td>\n",
       "      <td>United States</td>\n",
       "    </tr>\n",
       "    <tr>\n",
       "      <th>6</th>\n",
       "      <td>7.0</td>\n",
       "      <td>Kimkardashian</td>\n",
       "      <td>91.0</td>\n",
       "      <td>330700000.0</td>\n",
       "      <td>3500000.0</td>\n",
       "      <td>5700.0</td>\n",
       "      <td>0.005</td>\n",
       "      <td>1700000.0</td>\n",
       "      <td>19800000000.0</td>\n",
       "      <td>United States</td>\n",
       "    </tr>\n",
       "    <tr>\n",
       "      <th>...</th>\n",
       "      <td>...</td>\n",
       "      <td>...</td>\n",
       "      <td>...</td>\n",
       "      <td>...</td>\n",
       "      <td>...</td>\n",
       "      <td>...</td>\n",
       "      <td>...</td>\n",
       "      <td>...</td>\n",
       "      <td>...</td>\n",
       "      <td>...</td>\n",
       "    </tr>\n",
       "    <tr>\n",
       "      <th>174</th>\n",
       "      <td>175.0</td>\n",
       "      <td>Nattinatasha</td>\n",
       "      <td>47.0</td>\n",
       "      <td>36100000.0</td>\n",
       "      <td>513200.0</td>\n",
       "      <td>59.0</td>\n",
       "      <td>0.006</td>\n",
       "      <td>201600.0</td>\n",
       "      <td>30300000.0</td>\n",
       "      <td>Czech Republic</td>\n",
       "    </tr>\n",
       "    <tr>\n",
       "      <th>181</th>\n",
       "      <td>182.0</td>\n",
       "      <td>Toni.krs</td>\n",
       "      <td>83.0</td>\n",
       "      <td>35600000.0</td>\n",
       "      <td>597800.0</td>\n",
       "      <td>946.0</td>\n",
       "      <td>0.012</td>\n",
       "      <td>432500.0</td>\n",
       "      <td>565500000.0</td>\n",
       "      <td>Other</td>\n",
       "    </tr>\n",
       "    <tr>\n",
       "      <th>189</th>\n",
       "      <td>190.0</td>\n",
       "      <td>Adidasoriginals</td>\n",
       "      <td>83.0</td>\n",
       "      <td>34100000.0</td>\n",
       "      <td>136200.0</td>\n",
       "      <td>180.0</td>\n",
       "      <td>0.002</td>\n",
       "      <td>66800.0</td>\n",
       "      <td>24500000.0</td>\n",
       "      <td>Other</td>\n",
       "    </tr>\n",
       "    <tr>\n",
       "      <th>198</th>\n",
       "      <td>199.0</td>\n",
       "      <td>Luansantana</td>\n",
       "      <td>79.0</td>\n",
       "      <td>33500000.0</td>\n",
       "      <td>193300.0</td>\n",
       "      <td>865.0</td>\n",
       "      <td>0.003</td>\n",
       "      <td>82600.0</td>\n",
       "      <td>167200000.0</td>\n",
       "      <td>Brazil</td>\n",
       "    </tr>\n",
       "    <tr>\n",
       "      <th>156</th>\n",
       "      <td>157.0</td>\n",
       "      <td>Mahi7781</td>\n",
       "      <td>58.0</td>\n",
       "      <td>39500000.0</td>\n",
       "      <td>4100000.0</td>\n",
       "      <td>107.0</td>\n",
       "      <td>0.002</td>\n",
       "      <td>0.0</td>\n",
       "      <td>444000000.0</td>\n",
       "      <td>Other</td>\n",
       "    </tr>\n",
       "  </tbody>\n",
       "</table>\n",
       "<p>200 rows × 10 columns</p>\n",
       "</div>"
      ],
      "text/plain": [
       "      Rank     Channel Info  Influence Score    Followers Avg. Likes   Posts  \\\n",
       "0      1.0        Cristiano             92.0  485200000.0  8700000.0  3400.0   \n",
       "1      2.0      Kyliejenner             91.0  370700000.0  8200000.0  7000.0   \n",
       "3      4.0      Selenagomez             93.0  348800000.0  6100000.0  1900.0   \n",
       "5      6.0     Arianagrande             92.0  333000000.0  3700000.0  5000.0   \n",
       "6      7.0    Kimkardashian             91.0  330700000.0  3500000.0  5700.0   \n",
       "..     ...              ...              ...          ...        ...     ...   \n",
       "174  175.0     Nattinatasha             47.0   36100000.0   513200.0    59.0   \n",
       "181  182.0         Toni.krs             83.0   35600000.0   597800.0   946.0   \n",
       "189  190.0  Adidasoriginals             83.0   34100000.0   136200.0   180.0   \n",
       "198  199.0      Luansantana             79.0   33500000.0   193300.0   865.0   \n",
       "156  157.0         Mahi7781             58.0   39500000.0  4100000.0   107.0   \n",
       "\n",
       "     60-Day Eng Rate New Post Avg. Likes    Total Likes Country Or Region  \n",
       "0              0.013           6300000.0  29100000000.0             Spain  \n",
       "1              0.014           5000000.0  57400000000.0     United States  \n",
       "3              0.005           1700000.0  11400000000.0     United States  \n",
       "5              0.009           3100000.0  18500000000.0     United States  \n",
       "6              0.005           1700000.0  19800000000.0     United States  \n",
       "..               ...                 ...            ...               ...  \n",
       "174            0.006            201600.0     30300000.0    Czech Republic  \n",
       "181            0.012            432500.0    565500000.0             Other  \n",
       "189            0.002             66800.0     24500000.0             Other  \n",
       "198            0.003             82600.0    167200000.0            Brazil  \n",
       "156            0.002                 0.0    444000000.0             Other  \n",
       "\n",
       "[200 rows x 10 columns]"
      ]
     },
     "execution_count": 23,
     "metadata": {},
     "output_type": "execute_result"
    }
   ],
   "source": [
    "millon_follower[\"Total Likes\"]=millon_follower[\"Total Likes\"].apply(millons)\n",
    "\n",
    "billon_follower[\"Total Likes\"]=billon_follower[\"Total Likes\"].apply(billon)\n",
    "\n",
    "k_follower[\"Total Likes\"]=k_follower[\"Total Likes\"].apply(k)\n",
    "\n",
    "insta= pd.concat([billon_follower,millon_follower,k_follower,num_follower],axis=0)\n",
    "\n",
    "insta"
   ]
  },
  {
   "cell_type": "markdown",
   "id": "228ae580",
   "metadata": {},
   "source": [
    "## Enagement rate feature"
   ]
  },
  {
   "cell_type": "code",
   "execution_count": 24,
   "id": "911b5853",
   "metadata": {},
   "outputs": [],
   "source": [
    "insta[\"60-Day Eng Rate\"]=insta[\"60-Day Eng Rate\"].apply(lambda x:x*100)"
   ]
  },
  {
   "cell_type": "markdown",
   "id": "61df7e0c",
   "metadata": {},
   "source": [
    "# Cleaned data for analysis"
   ]
  },
  {
   "cell_type": "code",
   "execution_count": 25,
   "id": "f0fa6532",
   "metadata": {
    "scrolled": true
   },
   "outputs": [
    {
     "data": {
      "text/html": [
       "<div>\n",
       "<style scoped>\n",
       "    .dataframe tbody tr th:only-of-type {\n",
       "        vertical-align: middle;\n",
       "    }\n",
       "\n",
       "    .dataframe tbody tr th {\n",
       "        vertical-align: top;\n",
       "    }\n",
       "\n",
       "    .dataframe thead th {\n",
       "        text-align: right;\n",
       "    }\n",
       "</style>\n",
       "<table border=\"1\" class=\"dataframe\">\n",
       "  <thead>\n",
       "    <tr style=\"text-align: right;\">\n",
       "      <th></th>\n",
       "      <th>Rank</th>\n",
       "      <th>Channel Info</th>\n",
       "      <th>Influence Score</th>\n",
       "      <th>Followers</th>\n",
       "      <th>Avg. Likes</th>\n",
       "      <th>Posts</th>\n",
       "      <th>60-Day Eng Rate</th>\n",
       "      <th>New Post Avg. Likes</th>\n",
       "      <th>Total Likes</th>\n",
       "      <th>Country Or Region</th>\n",
       "    </tr>\n",
       "  </thead>\n",
       "  <tbody>\n",
       "    <tr>\n",
       "      <th>0</th>\n",
       "      <td>1.0</td>\n",
       "      <td>Cristiano</td>\n",
       "      <td>92.0</td>\n",
       "      <td>485200000.0</td>\n",
       "      <td>8700000.0</td>\n",
       "      <td>3400.0</td>\n",
       "      <td>1.3</td>\n",
       "      <td>6300000.0</td>\n",
       "      <td>29100000000.0</td>\n",
       "      <td>Spain</td>\n",
       "    </tr>\n",
       "    <tr>\n",
       "      <th>1</th>\n",
       "      <td>2.0</td>\n",
       "      <td>Kyliejenner</td>\n",
       "      <td>91.0</td>\n",
       "      <td>370700000.0</td>\n",
       "      <td>8200000.0</td>\n",
       "      <td>7000.0</td>\n",
       "      <td>1.4</td>\n",
       "      <td>5000000.0</td>\n",
       "      <td>57400000000.0</td>\n",
       "      <td>United States</td>\n",
       "    </tr>\n",
       "    <tr>\n",
       "      <th>3</th>\n",
       "      <td>4.0</td>\n",
       "      <td>Selenagomez</td>\n",
       "      <td>93.0</td>\n",
       "      <td>348800000.0</td>\n",
       "      <td>6100000.0</td>\n",
       "      <td>1900.0</td>\n",
       "      <td>0.5</td>\n",
       "      <td>1700000.0</td>\n",
       "      <td>11400000000.0</td>\n",
       "      <td>United States</td>\n",
       "    </tr>\n",
       "    <tr>\n",
       "      <th>5</th>\n",
       "      <td>6.0</td>\n",
       "      <td>Arianagrande</td>\n",
       "      <td>92.0</td>\n",
       "      <td>333000000.0</td>\n",
       "      <td>3700000.0</td>\n",
       "      <td>5000.0</td>\n",
       "      <td>0.9</td>\n",
       "      <td>3100000.0</td>\n",
       "      <td>18500000000.0</td>\n",
       "      <td>United States</td>\n",
       "    </tr>\n",
       "    <tr>\n",
       "      <th>6</th>\n",
       "      <td>7.0</td>\n",
       "      <td>Kimkardashian</td>\n",
       "      <td>91.0</td>\n",
       "      <td>330700000.0</td>\n",
       "      <td>3500000.0</td>\n",
       "      <td>5700.0</td>\n",
       "      <td>0.5</td>\n",
       "      <td>1700000.0</td>\n",
       "      <td>19800000000.0</td>\n",
       "      <td>United States</td>\n",
       "    </tr>\n",
       "  </tbody>\n",
       "</table>\n",
       "</div>"
      ],
      "text/plain": [
       "   Rank   Channel Info  Influence Score    Followers Avg. Likes   Posts  \\\n",
       "0   1.0      Cristiano             92.0  485200000.0  8700000.0  3400.0   \n",
       "1   2.0    Kyliejenner             91.0  370700000.0  8200000.0  7000.0   \n",
       "3   4.0    Selenagomez             93.0  348800000.0  6100000.0  1900.0   \n",
       "5   6.0   Arianagrande             92.0  333000000.0  3700000.0  5000.0   \n",
       "6   7.0  Kimkardashian             91.0  330700000.0  3500000.0  5700.0   \n",
       "\n",
       "   60-Day Eng Rate New Post Avg. Likes    Total Likes Country Or Region  \n",
       "0              1.3           6300000.0  29100000000.0             Spain  \n",
       "1              1.4           5000000.0  57400000000.0     United States  \n",
       "3              0.5           1700000.0  11400000000.0     United States  \n",
       "5              0.9           3100000.0  18500000000.0     United States  \n",
       "6              0.5           1700000.0  19800000000.0     United States  "
      ]
     },
     "execution_count": 25,
     "metadata": {},
     "output_type": "execute_result"
    }
   ],
   "source": [
    "insta.head()"
   ]
  },
  {
   "cell_type": "code",
   "execution_count": 26,
   "id": "4ba6a52d",
   "metadata": {},
   "outputs": [],
   "source": [
    "insta.rename(columns={\n",
    "    \"Country Or Region\": \"Country\"\n",
    "},inplace=True)"
   ]
  },
  {
   "cell_type": "markdown",
   "id": "df811a76",
   "metadata": {},
   "source": [
    "# Uncleaned data"
   ]
  },
  {
   "cell_type": "code",
   "execution_count": 27,
   "id": "972ca085",
   "metadata": {},
   "outputs": [
    {
     "data": {
      "text/html": [
       "<div>\n",
       "<style scoped>\n",
       "    .dataframe tbody tr th:only-of-type {\n",
       "        vertical-align: middle;\n",
       "    }\n",
       "\n",
       "    .dataframe tbody tr th {\n",
       "        vertical-align: top;\n",
       "    }\n",
       "\n",
       "    .dataframe thead th {\n",
       "        text-align: right;\n",
       "    }\n",
       "</style>\n",
       "<table border=\"1\" class=\"dataframe\">\n",
       "  <thead>\n",
       "    <tr style=\"text-align: right;\">\n",
       "      <th></th>\n",
       "      <th>Rank</th>\n",
       "      <th>Channel Info</th>\n",
       "      <th>Influence Score</th>\n",
       "      <th>Followers</th>\n",
       "      <th>Avg. Likes</th>\n",
       "      <th>Posts</th>\n",
       "      <th>60-Day Eng Rate</th>\n",
       "      <th>New Post Avg. Likes</th>\n",
       "      <th>Total Likes</th>\n",
       "      <th>Country Or Region</th>\n",
       "    </tr>\n",
       "  </thead>\n",
       "  <tbody>\n",
       "    <tr>\n",
       "      <th>0</th>\n",
       "      <td>1.0</td>\n",
       "      <td>Cristiano</td>\n",
       "      <td>92.0</td>\n",
       "      <td>485.2m</td>\n",
       "      <td>8.7m</td>\n",
       "      <td>3.4k</td>\n",
       "      <td>0.013</td>\n",
       "      <td>6.3m</td>\n",
       "      <td>29.1b</td>\n",
       "      <td>Spain</td>\n",
       "    </tr>\n",
       "    <tr>\n",
       "      <th>1</th>\n",
       "      <td>2.0</td>\n",
       "      <td>Kyliejenner</td>\n",
       "      <td>91.0</td>\n",
       "      <td>370.7m</td>\n",
       "      <td>8.2m</td>\n",
       "      <td>7.0k</td>\n",
       "      <td>0.014</td>\n",
       "      <td>5.0m</td>\n",
       "      <td>57.4b</td>\n",
       "      <td>United States</td>\n",
       "    </tr>\n",
       "    <tr>\n",
       "      <th>2</th>\n",
       "      <td>3.0</td>\n",
       "      <td>Leomessi</td>\n",
       "      <td>90.0</td>\n",
       "      <td>363.9m</td>\n",
       "      <td>6.7m</td>\n",
       "      <td>915.0</td>\n",
       "      <td>0.010</td>\n",
       "      <td>3.5m</td>\n",
       "      <td>6.1b</td>\n",
       "      <td>Other</td>\n",
       "    </tr>\n",
       "    <tr>\n",
       "      <th>3</th>\n",
       "      <td>4.0</td>\n",
       "      <td>Selenagomez</td>\n",
       "      <td>93.0</td>\n",
       "      <td>348.8m</td>\n",
       "      <td>6.1m</td>\n",
       "      <td>1.9k</td>\n",
       "      <td>0.005</td>\n",
       "      <td>1.7m</td>\n",
       "      <td>11.4b</td>\n",
       "      <td>United States</td>\n",
       "    </tr>\n",
       "    <tr>\n",
       "      <th>4</th>\n",
       "      <td>5.0</td>\n",
       "      <td>Therock</td>\n",
       "      <td>91.0</td>\n",
       "      <td>339.4m</td>\n",
       "      <td>1.8m</td>\n",
       "      <td>6.8k</td>\n",
       "      <td>0.003</td>\n",
       "      <td>932.0k</td>\n",
       "      <td>12.6b</td>\n",
       "      <td>United States</td>\n",
       "    </tr>\n",
       "  </tbody>\n",
       "</table>\n",
       "</div>"
      ],
      "text/plain": [
       "   Rank Channel Info  Influence Score Followers Avg. Likes  Posts  \\\n",
       "0   1.0    Cristiano             92.0    485.2m       8.7m   3.4k   \n",
       "1   2.0  Kyliejenner             91.0    370.7m       8.2m   7.0k   \n",
       "2   3.0     Leomessi             90.0    363.9m       6.7m  915.0   \n",
       "3   4.0  Selenagomez             93.0    348.8m       6.1m   1.9k   \n",
       "4   5.0      Therock             91.0    339.4m       1.8m   6.8k   \n",
       "\n",
       "   60-Day Eng Rate New Post Avg. Likes Total Likes Country Or Region  \n",
       "0            0.013                6.3m       29.1b             Spain  \n",
       "1            0.014                5.0m       57.4b     United States  \n",
       "2            0.010                3.5m        6.1b             Other  \n",
       "3            0.005                1.7m       11.4b     United States  \n",
       "4            0.003              932.0k       12.6b     United States  "
      ]
     },
     "execution_count": 27,
     "metadata": {},
     "output_type": "execute_result"
    }
   ],
   "source": [
    "instagram_data.head()"
   ]
  },
  {
   "cell_type": "markdown",
   "id": "d1abc7ff",
   "metadata": {},
   "source": [
    "# EDA"
   ]
  },
  {
   "cell_type": "markdown",
   "id": "c3257c13",
   "metadata": {},
   "source": [
    "# 1. Are there any correlated features in the given dataset? If yes, state the correlation coefficient of the pair of features which are highly correlated.\n"
   ]
  },
  {
   "cell_type": "markdown",
   "id": "4534dc50",
   "metadata": {},
   "source": [
    "## Rank as the dependent feature vs all the feature"
   ]
  },
  {
   "cell_type": "markdown",
   "id": "a10a0b57",
   "metadata": {},
   "source": [
    "### 1.As we dont need a channel_info(username) for the correlation(model buliding)"
   ]
  },
  {
   "cell_type": "code",
   "execution_count": 28,
   "id": "0b47e88b",
   "metadata": {},
   "outputs": [
    {
     "name": "stdout",
     "output_type": "stream",
     "text": [
      "Independent feature\n"
     ]
    }
   ],
   "source": [
    "#rank vs influence score\n",
    "x=insta[\"Rank\"]\n",
    "y=insta[\"Influence Score\"]\n",
    "corr,t=pearsonr(x,y)\n",
    "if corr<0.05:\n",
    "    print(\"Independent feature\")\n",
    "else:\n",
    "    print(\"Dependent feature\")"
   ]
  },
  {
   "cell_type": "code",
   "execution_count": 29,
   "id": "c1809d79",
   "metadata": {},
   "outputs": [
    {
     "name": "stdout",
     "output_type": "stream",
     "text": [
      "Independent feature\n"
     ]
    }
   ],
   "source": [
    "#rank vs followers\n",
    "x=insta[\"Rank\"]\n",
    "y=insta[\"Followers\"]\n",
    "corr,t=pearsonr(x,y)\n",
    "if corr<0.05:\n",
    "    print(\"Independent feature\")\n",
    "else:\n",
    "    print(\"Dependent feature\")"
   ]
  },
  {
   "cell_type": "code",
   "execution_count": 30,
   "id": "94350330",
   "metadata": {},
   "outputs": [
    {
     "name": "stdout",
     "output_type": "stream",
     "text": [
      "Independent feature\n"
     ]
    }
   ],
   "source": [
    "#rank vs average likes\n",
    "x=insta[\"Rank\"]\n",
    "y=insta[\"Avg. Likes\"]\n",
    "corr,t=pearsonr(x,y)\n",
    "if corr<0.05:\n",
    "    print(\"Independent feature\")\n",
    "else:\n",
    "    print(\"Dependent feature\")"
   ]
  },
  {
   "cell_type": "code",
   "execution_count": 31,
   "id": "96dae8cd",
   "metadata": {},
   "outputs": [
    {
     "name": "stdout",
     "output_type": "stream",
     "text": [
      "Independent feature\n"
     ]
    }
   ],
   "source": [
    "#rank vs posts\n",
    "x=insta[\"Rank\"]\n",
    "y=insta[\"Posts\"]\n",
    "corr,t=pearsonr(x,y)\n",
    "if corr<0.05:\n",
    "    print(\"Independent feature\")\n",
    "else:\n",
    "    print(\"Dependent feature\")"
   ]
  },
  {
   "cell_type": "code",
   "execution_count": 32,
   "id": "e2917f79",
   "metadata": {},
   "outputs": [
    {
     "name": "stdout",
     "output_type": "stream",
     "text": [
      "Independent feature\n"
     ]
    }
   ],
   "source": [
    "#rank vs enangement rate\n",
    "x=insta[\"Rank\"]\n",
    "y=insta[\"60-Day Eng Rate\"]\n",
    "corr,t=pearsonr(x,y)\n",
    "if corr<0.05:\n",
    "    print(\"Independent feature\")\n",
    "else:\n",
    "    print(\"Dependent feature\")"
   ]
  },
  {
   "cell_type": "code",
   "execution_count": 33,
   "id": "31122130",
   "metadata": {},
   "outputs": [
    {
     "name": "stdout",
     "output_type": "stream",
     "text": [
      "Independent feature\n"
     ]
    }
   ],
   "source": [
    "#rank vs Total likes\n",
    "x=insta[\"Rank\"]\n",
    "y=insta[\"Total Likes\"]\n",
    "corr,t=pearsonr(x,y)\n",
    "if corr<0.05:\n",
    "    print(\"Independent feature\")\n",
    "else:\n",
    "    print(\"Dependent feature\")"
   ]
  },
  {
   "cell_type": "code",
   "execution_count": 34,
   "id": "163ed109",
   "metadata": {},
   "outputs": [
    {
     "name": "stdout",
     "output_type": "stream",
     "text": [
      "Independent feature\n"
     ]
    }
   ],
   "source": [
    "#rank vs New post\n",
    "x=insta[\"Rank\"]\n",
    "y=insta[\"New Post Avg. Likes\"]\n",
    "corr,t=pearsonr(x,y)\n",
    "if corr<0.05:\n",
    "    print(\"Independent feature\")\n",
    "else:\n",
    "    print(\"Dependent feature\")"
   ]
  },
  {
   "cell_type": "code",
   "execution_count": 35,
   "id": "8d33d373",
   "metadata": {},
   "outputs": [
    {
     "name": "stdout",
     "output_type": "stream",
     "text": [
      "Independent feature\n"
     ]
    }
   ],
   "source": [
    "#rank vs country\n",
    "\n",
    "model = ols('Rank ~ C(Country)',data=insta).fit()\n",
    "\n",
    "result = sm.stats.anova_lm(model, type=3)\n",
    "\n",
    "results=result[\"PR(>F)\"][0]\n",
    "\n",
    "if results<0.05:\n",
    "    print(\"Independent feature\")\n",
    "else:\n",
    "    print(\"Dependent feature\")"
   ]
  },
  {
   "cell_type": "markdown",
   "id": "00b51834",
   "metadata": {},
   "source": [
    "## Conclusion of Highly corrected "
   ]
  },
  {
   "cell_type": "markdown",
   "id": "393ba49f",
   "metadata": {},
   "source": [
    "## Where the channel info is weekly correlated with rank and other feature a highly correleated with rank"
   ]
  },
  {
   "cell_type": "markdown",
   "id": "441af4eb",
   "metadata": {},
   "source": [
    "# 2. What is the frequency distribution of the following features?\n",
    "○ Influence Score\n",
    "○ Followers\n",
    "○ Posts"
   ]
  },
  {
   "cell_type": "code",
   "execution_count": 36,
   "id": "1a38f12f",
   "metadata": {
    "scrolled": true
   },
   "outputs": [
    {
     "data": {
      "text/plain": [
       "<AxesSubplot:ylabel='Frequency'>"
      ]
     },
     "execution_count": 36,
     "metadata": {},
     "output_type": "execute_result"
    },
    {
     "data": {
      "image/png": "[encoded data removed]",
      "text/plain": [
       "<Figure size 720x360 with 1 Axes>"
      ]
     },
     "metadata": {
      "needs_background": "light"
     },
     "output_type": "display_data"
    }
   ],
   "source": [
    "plt.figure(figsize=(10,5))\n",
    "insta[\"Influence Score\"].value_counts().plot(kind=\"hist\")"
   ]
  },
  {
   "cell_type": "code",
   "execution_count": 37,
   "id": "4acd7b51",
   "metadata": {
    "scrolled": true
   },
   "outputs": [
    {
     "data": {
      "text/plain": [
       "<AxesSubplot:ylabel='Frequency'>"
      ]
     },
     "execution_count": 37,
     "metadata": {},
     "output_type": "execute_result"
    },
    {
     "data": {
      "image/png": "[encoded data removed]",
      "text/plain": [
       "<Figure size 720x360 with 1 Axes>"
      ]
     },
     "metadata": {
      "needs_background": "light"
     },
     "output_type": "display_data"
    }
   ],
   "source": [
    "plt.figure(figsize=(10,5))\n",
    "instagram_data.groupby(\"Followers\").size().plot(kind=\"hist\")"
   ]
  },
  {
   "cell_type": "code",
   "execution_count": 38,
   "id": "35954539",
   "metadata": {},
   "outputs": [
    {
     "data": {
      "text/plain": [
       "<AxesSubplot:ylabel='Frequency'>"
      ]
     },
     "execution_count": 38,
     "metadata": {},
     "output_type": "execute_result"
    },
    {
     "data": {
      "image/png": "[encoded data removed]",
      "text/plain": [
       "<Figure size 720x360 with 1 Axes>"
      ]
     },
     "metadata": {
      "needs_background": "light"
     },
     "output_type": "display_data"
    }
   ],
   "source": [
    "plt.figure(figsize=(10,5))\n",
    "instagram_data.groupby(\"Posts\").size().plot(kind=\"hist\")"
   ]
  },
  {
   "cell_type": "markdown",
   "id": "3743a96b",
   "metadata": {},
   "source": [
    "# 3. Which country houses the highest number of Instagram Influencers? Please show thecount of Instagram influencers in different countries using barchart."
   ]
  },
  {
   "cell_type": "code",
   "execution_count": 39,
   "id": "ca21844d",
   "metadata": {
    "scrolled": false
   },
   "outputs": [
    {
     "data": {
      "text/plain": [
       "<AxesSubplot:>"
      ]
     },
     "execution_count": 39,
     "metadata": {},
     "output_type": "execute_result"
    },
    {
     "data": {
      "image/png": "[encoded data removed]",
      "text/plain": [
       "<Figure size 432x288 with 1 Axes>"
      ]
     },
     "metadata": {
      "needs_background": "light"
     },
     "output_type": "display_data"
    }
   ],
   "source": [
    "country=insta[\"Country\"].value_counts()\n",
    "\n",
    "country.plot(kind=\"bar\")"
   ]
  },
  {
   "cell_type": "markdown",
   "id": "d270a0e7",
   "metadata": {},
   "source": [
    "## Top 10 instagram influencer are from....."
   ]
  },
  {
   "cell_type": "code",
   "execution_count": 40,
   "id": "787a224e",
   "metadata": {},
   "outputs": [
    {
     "data": {
      "text/plain": [
       "United States     65\n",
       "Other             63\n",
       "Brazil            13\n",
       "India             12\n",
       "Indonesia          7\n",
       "France             6\n",
       "Spain              5\n",
       "United Kingdom     4\n",
       "Colombia           3\n",
       "Canada             3\n",
       "Name: Country, dtype: int64"
      ]
     },
     "execution_count": 40,
     "metadata": {},
     "output_type": "execute_result"
    }
   ],
   "source": [
    "country.head(10)"
   ]
  },
  {
   "cell_type": "markdown",
   "id": "b40fcb0e",
   "metadata": {},
   "source": [
    "# 4. Who are the top 10 influencers in the given dataset based on the following features\n",
    "● Followers\n",
    "● Average likes\n",
    "● Total Likes\n"
   ]
  },
  {
   "cell_type": "code",
   "execution_count": 41,
   "id": "a8b23c04",
   "metadata": {},
   "outputs": [
    {
     "data": {
      "text/plain": [
       "0          Cristiano\n",
       "1        Kyliejenner\n",
       "2           Leomessi\n",
       "3        Selenagomez\n",
       "4            Therock\n",
       "5       Arianagrande\n",
       "6      Kimkardashian\n",
       "7            Beyonce\n",
       "8    Khloekardashian\n",
       "9       Justinbieber\n",
       "Name: Channel Info, dtype: object"
      ]
     },
     "execution_count": 41,
     "metadata": {},
     "output_type": "execute_result"
    }
   ],
   "source": [
    "insta.sort_values([\"Followers\",\"Avg. Likes\",\"Total Likes\"],ascending=False)[\"Channel Info\"].head(10)"
   ]
  },
  {
   "cell_type": "markdown",
   "id": "441a58d1",
   "metadata": {},
   "source": [
    "# 5. Describe the relationship between the following pairs of features using a suitable graph\n",
    "● Followers and Total Likes\n",
    "● Followers and Influence Scor"
   ]
  },
  {
   "cell_type": "code",
   "execution_count": 42,
   "id": "8b9d23f6",
   "metadata": {},
   "outputs": [
    {
     "data": {
      "image/png": "[encoded data removed]",
      "text/plain": [
       "<Figure size 432x288 with 1 Axes>"
      ]
     },
     "metadata": {
      "needs_background": "light"
     },
     "output_type": "display_data"
    }
   ],
   "source": [
    "x=insta[\"Followers\"]\n",
    "y=insta[\"Total Likes\"]\n",
    "plt.scatter(x,y,c=\"red\")\n",
    "plt.xlabel(\"Follower\")\n",
    "plt.ylabel(\"Total likes\")\n",
    "plt.show()"
   ]
  },
  {
   "cell_type": "code",
   "execution_count": 43,
   "id": "f15be9a7",
   "metadata": {},
   "outputs": [
    {
     "data": {
      "image/png": "[encoded data removed]",
      "text/plain": [
       "<Figure size 432x288 with 1 Axes>"
      ]
     },
     "metadata": {
      "needs_background": "light"
     },
     "output_type": "display_data"
    }
   ],
   "source": [
    "x=insta[\"Followers\"]\n",
    "y=insta[\"Influence Score\"]\n",
    "plt.scatter(x,y,c=\"green\")\n",
    "plt.xlabel(\"Follower\")\n",
    "plt.ylabel(\"Influencer score\")\n",
    "plt.show()"
   ]
  },
  {
   "cell_type": "code",
   "execution_count": 44,
   "id": "caed8bda",
   "metadata": {},
   "outputs": [
    {
     "data": {
      "image/png": "[encoded data removed]",
      "text/plain": [
       "<Figure size 432x288 with 1 Axes>"
      ]
     },
     "metadata": {
      "needs_background": "light"
     },
     "output_type": "display_data"
    }
   ],
   "source": [
    "x=insta[\"Posts\"]\n",
    "y=insta[\"Total Likes\"]\n",
    "plt.scatter(x,y,c=\"black\")\n",
    "plt.xlabel(\"Posts\")\n",
    "plt.ylabel(\"Total likes\")\n",
    "plt.show()"
   ]
  },
  {
   "cell_type": "code",
   "execution_count": 45,
   "id": "4f3926b4",
   "metadata": {},
   "outputs": [
    {
     "data": {
      "image/png": "[encoded data removed]",
      "text/plain": [
       "<Figure size 432x288 with 1 Axes>"
      ]
     },
     "metadata": {
      "needs_background": "light"
     },
     "output_type": "display_data"
    }
   ],
   "source": [
    "x=insta[\"Posts\"]\n",
    "y=insta[\"Influence Score\"]\n",
    "plt.scatter(x,y)\n",
    "plt.xlabel(\"Posts\")\n",
    "plt.ylabel(\"Influencer score\")\n",
    "plt.show()"
   ]
  },
  {
   "cell_type": "markdown",
   "id": "68a7df8a",
   "metadata": {},
   "source": [
    "# Conclusion"
   ]
  },
  {
   "cell_type": "markdown",
   "id": "e1c1ebfc",
   "metadata": {},
   "source": [
    "# The instagram influencer are from different country and the rank are mostly based on the follower and the content they provide"
   ]
  }
 ],
 "metadata": {
  "kernelspec": {
   "display_name": "Python 3 (ipykernel)",
   "language": "python",
   "name": "python3"
  },
  "language_info": {
   "codemirror_mode": {
    "name": "ipython",
    "version": 3
   },
   "file_extension": ".py",
   "mimetype": "text/x-python",
   "name": "python",
   "nbconvert_exporter": "python",
   "pygments_lexer": "ipython3",
   "version": "3.9.12"
  }
 },
 "nbformat": 4,
 "nbformat_minor": 5
}
